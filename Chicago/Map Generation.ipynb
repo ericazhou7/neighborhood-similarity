{
 "cells": [
  {
   "cell_type": "code",
   "execution_count": 2,
   "metadata": {},
   "outputs": [],
   "source": [
    "import pandas as pd\n",
    "import folium\n",
    "import folium.plugins"
   ]
  },
  {
   "cell_type": "code",
   "execution_count": 4,
   "metadata": {},
   "outputs": [],
   "source": [
    "def add_layer(mapname, varname, legendname, descriptionname):\n",
    "    layer_1 = folium.Choropleth(geo_data=file, data=data,\n",
    "             columns=['community', varname],\n",
    "             key_on= \"feature.properties.community\",\n",
    "             fill_color = 'YlOrRd', fill_opacity=0.7, line_opacity=0.2)\n",
    "    layer_1.geojson.add_child(folium.features.GeoJsonTooltip(['community',varname], aliases = [\"Neighborhood:\", descriptionname], localize = True))\n",
    "    fg_1= folium.FeatureGroup(name=legendname, show=False).add_to(mapname)\n",
    "    layer_1.geojson.add_to(fg_1)\n",
    "    return"
   ]
  },
  {
   "cell_type": "markdown",
   "metadata": {},
   "source": [
    "## Chicago Map"
   ]
  },
  {
   "cell_type": "code",
   "execution_count": 6,
   "metadata": {},
   "outputs": [],
   "source": [
    "file =\"chicago.geojson\"\n",
    "data = pd.read_csv(\"chicagoquantitative.csv\")\n",
    "#map setup, Map is a single map, DualMap is side by side\n",
    "\n",
    "# m = folium.Map([41.8781, -87.6298], zoom_start=11)\n",
    "m = folium.plugins.DualMap([41.8781, -87.6298],tiles ='cartodbpositron',  zoom_start=11)\n",
    "\n",
    "add_layer(m.m1, 'UND19', 'Population Under 19', '% Under 19:' )    \n",
    "add_layer(m.m1, 'PopDens', 'Population Density', 'Density:' )  \n",
    "add_layer(m.m2, 'UND19', 'Population Under 19', '% Under 19:' )    \n",
    "add_layer(m.m2, 'PopDens', 'Population Density', 'Density:' ) \n",
    "add_layer(m.m1, 'UNEMP', 'Unemployment Rate', 'Unemployment Rate:')\n",
    "add_layer(m.m2, 'UNEMP', 'Unemployment Rate', 'Unemployment Rate:')\n",
    "add_layer(m.m1, 'SPANISH', 'Spanish Speaking', '% Spanish Speaking:')\n",
    "add_layer(m.m2, 'SPANISH', 'Spanish Speaking', '% Spanish Speaking:')\n",
    "\n",
    "folium.LayerControl(collapsed=False).add_to(m) \n",
    "\n",
    "m.save(\"chicagomap.html\")\n",
    "    "
   ]
  },
  {
   "cell_type": "markdown",
   "metadata": {},
   "source": [
    "## New York Map"
   ]
  },
  {
   "cell_type": "code",
   "execution_count": null,
   "metadata": {},
   "outputs": [],
   "source": [
    "file =\"chicago.geojson\"\n",
    "data = pd.read_csv(\"chicagoquantitative.csv\")\n",
    "#map setup, Map is a single map, DualMap is side by side\n",
    "\n",
    "# m = folium.Map([41.8781, -87.6298], zoom_start=11)\n",
    "m = folium.plugins.DualMap([41.8781, -87.6298],tiles ='cartodbpositron',  zoom_start=11)\n",
    "\n",
    "def add_layer(mapname, varname, legendname, descriptionname):\n",
    "    layer_1 = folium.Choropleth(geo_data=file, data=data,\n",
    "             columns=['community', varname],\n",
    "             key_on= \"feature.properties.community\",\n",
    "             fill_color = 'YlOrRd', fill_opacity=0.7, line_opacity=0.2)\n",
    "    layer_1.geojson.add_child(folium.features.GeoJsonTooltip(['community',varname], aliases = [\"Neighborhood:\", descriptionname], localize = True))\n",
    "    fg_1= folium.FeatureGroup(name=legendname, show=False).add_to(mapname)\n",
    "    layer_1.geojson.add_to(fg_1)\n",
    "    return \n",
    "\n",
    "add_layer(m.m1, 'UND19', 'Population Under 19', '% Under 19:' )    \n",
    "add_layer(m.m1, 'PopDens', 'Population Density', 'Density:' )  \n",
    "add_layer(m.m2, 'UND19', 'Population Under 19', '% Under 19:' )    \n",
    "add_layer(m.m2, 'PopDens', 'Population Density', 'Density:' ) \n",
    "add_layer(m.m1, 'UNEMP', 'Unemployment Rate', 'Unemployment Rate:')\n",
    "add_layer(m.m2, 'UNEMP', 'Unemployment Rate', 'Unemployment Rate:')\n",
    "add_layer(m.m1, 'SPANISH', 'Spanish Speaking', '% Spanish Speaking:')\n",
    "add_layer(m.m2, 'SPANISH', 'Spanish Speaking', '% Spanish Speaking:')\n",
    "\n",
    "folium.LayerControl(collapsed=False).add_to(m) \n",
    "\n",
    "m.save(\"chicagomap.html\")"
   ]
  }
 ],
 "metadata": {
  "kernelspec": {
   "display_name": "conda3",
   "language": "python",
   "name": "conda3"
  },
  "language_info": {
   "codemirror_mode": {
    "name": "ipython",
    "version": 3
   },
   "file_extension": ".py",
   "mimetype": "text/x-python",
   "name": "python",
   "nbconvert_exporter": "python",
   "pygments_lexer": "ipython3",
   "version": "3.7.4"
  }
 },
 "nbformat": 4,
 "nbformat_minor": 2
}
