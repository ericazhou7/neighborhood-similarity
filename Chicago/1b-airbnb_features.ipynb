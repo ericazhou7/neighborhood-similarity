{
 "cells": [
  {
   "cell_type": "code",
   "execution_count": 1,
   "metadata": {
    "colab": {
     "base_uri": "https://localhost:8080/",
     "height": 51
    },
    "colab_type": "code",
    "id": "DZITcu_QWprD",
    "outputId": "33838d16-cb0a-4aae-b4d1-f53fe9eb8e83"
   },
   "outputs": [],
   "source": [
    "import pandas as pd\n",
    "import numpy as np\n",
    "import geopandas as gpd\n",
    "\n",
    "import nltk\n",
    "from nltk.tokenize import word_tokenize\n",
    "from nltk.corpus import stopwords\n",
    "# nltk.download('stopwords')\n",
    "from collections import Counter\n",
    "\n",
    "%matplotlib inline\n",
    "import matplotlib.pyplot as plt\n",
    "import seaborn as sns\n",
    "\n",
    "from sklearn.cluster import KMeans\n",
    "from sklearn.preprocessing import StandardScaler\n",
    "\n",
    "import pickle"
   ]
  },
  {
   "cell_type": "code",
   "execution_count": 2,
   "metadata": {
    "colab": {
     "base_uri": "https://localhost:8080/",
     "height": 71
    },
    "colab_type": "code",
    "id": "TvwRSGemW6V1",
    "outputId": "04196e2c-47a3-4c5a-bdce-61b4afd6dede"
   },
   "outputs": [
    {
     "name": "stderr",
     "output_type": "stream",
     "text": [
      "/usr/local/lib/python3.7/site-packages/IPython/core/interactiveshell.py:3058: DtypeWarning: Columns (61,62) have mixed types. Specify dtype option on import or set low_memory=False.\n",
      "  interactivity=interactivity, compiler=compiler, result=result)\n"
     ]
    }
   ],
   "source": [
    "df = pd.read_csv('data/airbnb.csv.gz')"
   ]
  },
  {
   "cell_type": "code",
   "execution_count": 3,
   "metadata": {
    "colab": {
     "base_uri": "https://localhost:8080/",
     "height": 34
    },
    "colab_type": "code",
    "id": "6sxFeeGnXL0Y",
    "outputId": "33030722-aae1-4710-dce4-a057f63e550f"
   },
   "outputs": [
    {
     "data": {
      "text/plain": [
       "(8533, 106)"
      ]
     },
     "execution_count": 3,
     "metadata": {},
     "output_type": "execute_result"
    }
   ],
   "source": [
    "df.shape"
   ]
  },
  {
   "cell_type": "code",
   "execution_count": 4,
   "metadata": {
    "colab": {
     "base_uri": "https://localhost:8080/",
     "height": 85
    },
    "colab_type": "code",
    "id": "BnL4xOSpXUwh",
    "outputId": "5d769750-50ff-46de-a04a-4b868155a898"
   },
   "outputs": [
    {
     "data": {
      "text/plain": [
       "id                           0\n",
       "neighborhood_overview     2051\n",
       "neighbourhood_cleansed       0\n",
       "dtype: int64"
      ]
     },
     "execution_count": 4,
     "metadata": {},
     "output_type": "execute_result"
    }
   ],
   "source": [
    "df[['id','neighborhood_overview','neighbourhood_cleansed']].isnull().sum()"
   ]
  },
  {
   "cell_type": "code",
   "execution_count": 5,
   "metadata": {
    "scrolled": false
   },
   "outputs": [
    {
     "name": "stdout",
     "output_type": "stream",
     "text": [
      "['id', 'listing_url', 'scrape_id', 'last_scraped', 'name', 'summary', 'space', 'description', 'experiences_offered', 'neighborhood_overview', 'notes', 'transit', 'access', 'interaction', 'house_rules', 'thumbnail_url', 'medium_url', 'picture_url', 'xl_picture_url', 'host_id', 'host_url', 'host_name', 'host_since', 'host_location', 'host_about', 'host_response_time', 'host_response_rate', 'host_acceptance_rate', 'host_is_superhost', 'host_thumbnail_url', 'host_picture_url', 'host_neighbourhood', 'host_listings_count', 'host_total_listings_count', 'host_verifications', 'host_has_profile_pic', 'host_identity_verified', 'street', 'neighbourhood', 'neighbourhood_cleansed', 'neighbourhood_group_cleansed', 'city', 'state', 'zipcode', 'market', 'smart_location', 'country_code', 'country', 'latitude', 'longitude', 'is_location_exact', 'property_type', 'room_type', 'accommodates', 'bathrooms', 'bedrooms', 'beds', 'bed_type', 'amenities', 'square_feet', 'price', 'weekly_price', 'monthly_price', 'security_deposit', 'cleaning_fee', 'guests_included', 'extra_people', 'minimum_nights', 'maximum_nights', 'minimum_minimum_nights', 'maximum_minimum_nights', 'minimum_maximum_nights', 'maximum_maximum_nights', 'minimum_nights_avg_ntm', 'maximum_nights_avg_ntm', 'calendar_updated', 'has_availability', 'availability_30', 'availability_60', 'availability_90', 'availability_365', 'calendar_last_scraped', 'number_of_reviews', 'number_of_reviews_ltm', 'first_review', 'last_review', 'review_scores_rating', 'review_scores_accuracy', 'review_scores_cleanliness', 'review_scores_checkin', 'review_scores_communication', 'review_scores_location', 'review_scores_value', 'requires_license', 'license', 'jurisdiction_names', 'instant_bookable', 'is_business_travel_ready', 'cancellation_policy', 'require_guest_profile_picture', 'require_guest_phone_verification', 'calculated_host_listings_count', 'calculated_host_listings_count_entire_homes', 'calculated_host_listings_count_private_rooms', 'calculated_host_listings_count_shared_rooms', 'reviews_per_month']\n"
     ]
    }
   ],
   "source": [
    "print(list(df.columns))"
   ]
  },
  {
   "cell_type": "markdown",
   "metadata": {},
   "source": [
    "# Remap Neighborhoods to Unique IDs"
   ]
  },
  {
   "cell_type": "code",
   "execution_count": 8,
   "metadata": {},
   "outputs": [
    {
     "data": {
      "text/plain": [
       "neighbourhood_cleansed\n",
       "Albany Park                 94\n",
       "Archer Heights               6\n",
       "Armour Square               97\n",
       "Ashburn                     11\n",
       "Auburn Gresham              15\n",
       "Austin                      73\n",
       "Avalon Park                  3\n",
       "Avondale                   190\n",
       "Belmont Cragin              41\n",
       "Beverly                      8\n",
       "Bridgeport                 166\n",
       "Brighton Park               27\n",
       "Calumet Heights             20\n",
       "Chatham                     17\n",
       "Chicago Lawn                 8\n",
       "Clearing                     2\n",
       "Douglas                     83\n",
       "Dunning                     30\n",
       "East Garfield Park          90\n",
       "Edgewater                  215\n",
       "Edison Park                  3\n",
       "Englewood                   20\n",
       "Forest Glen                 11\n",
       "Fuller Park                  8\n",
       "Gage Park                    5\n",
       "Garfield Ridge              18\n",
       "Grand Boulevard            124\n",
       "Greater Grand Crossing      28\n",
       "Hegewisch                    4\n",
       "Hermosa                     19\n",
       "                          ... \n",
       "Near North Side            875\n",
       "Near South Side            185\n",
       "Near West Side             454\n",
       "New City                    24\n",
       "North Center               177\n",
       "North Lawndale              47\n",
       "North Park                  22\n",
       "Norwood Park                34\n",
       "Oakland                     29\n",
       "Ohare                       13\n",
       "Portage Park               102\n",
       "Pullman                     12\n",
       "Riverdale                    4\n",
       "Rogers Park                172\n",
       "Roseland                     7\n",
       "South Chicago               18\n",
       "South Deering                3\n",
       "South Lawndale              50\n",
       "South Shore                 88\n",
       "Uptown                     273\n",
       "Washington Heights           6\n",
       "Washington Park             36\n",
       "West Elsdon                  8\n",
       "West Englewood               9\n",
       "West Garfield Park          25\n",
       "West Lawn                   16\n",
       "West Pullman                 2\n",
       "West Ridge                  93\n",
       "West Town                 1048\n",
       "Woodlawn                   105\n",
       "Name: id, Length: 75, dtype: int64"
      ]
     },
     "execution_count": 8,
     "metadata": {},
     "output_type": "execute_result"
    }
   ],
   "source": [
    "df.groupby('neighbourhood_cleansed').count()['id']"
   ]
  },
  {
   "cell_type": "markdown",
   "metadata": {},
   "source": [
    "# Pull Quantitative Features"
   ]
  },
  {
   "cell_type": "code",
   "execution_count": 14,
   "metadata": {
    "scrolled": true
   },
   "outputs": [
    {
     "name": "stderr",
     "output_type": "stream",
     "text": [
      "/usr/local/lib/python3.7/site-packages/ipykernel_launcher.py:2: SettingWithCopyWarning: \n",
      "A value is trying to be set on a copy of a slice from a DataFrame.\n",
      "Try using .loc[row_indexer,col_indexer] = value instead\n",
      "\n",
      "See the caveats in the documentation: http://pandas.pydata.org/pandas-docs/stable/indexing.html#indexing-view-versus-copy\n",
      "  \n"
     ]
    },
    {
     "data": {
      "text/html": [
       "<div>\n",
       "<style scoped>\n",
       "    .dataframe tbody tr th:only-of-type {\n",
       "        vertical-align: middle;\n",
       "    }\n",
       "\n",
       "    .dataframe tbody tr th {\n",
       "        vertical-align: top;\n",
       "    }\n",
       "\n",
       "    .dataframe thead th {\n",
       "        text-align: right;\n",
       "    }\n",
       "</style>\n",
       "<table border=\"1\" class=\"dataframe\">\n",
       "  <thead>\n",
       "    <tr style=\"text-align: right;\">\n",
       "      <th></th>\n",
       "      <th>neighborhood_id</th>\n",
       "      <th>num_listings</th>\n",
       "      <th>price_norm</th>\n",
       "    </tr>\n",
       "  </thead>\n",
       "  <tbody>\n",
       "    <tr>\n",
       "      <th>0</th>\n",
       "      <td>Albany Park</td>\n",
       "      <td>94</td>\n",
       "      <td>28.490166</td>\n",
       "    </tr>\n",
       "    <tr>\n",
       "      <th>1</th>\n",
       "      <td>Archer Heights</td>\n",
       "      <td>6</td>\n",
       "      <td>50.786111</td>\n",
       "    </tr>\n",
       "    <tr>\n",
       "      <th>2</th>\n",
       "      <td>Armour Square</td>\n",
       "      <td>97</td>\n",
       "      <td>28.169723</td>\n",
       "    </tr>\n",
       "    <tr>\n",
       "      <th>3</th>\n",
       "      <td>Ashburn</td>\n",
       "      <td>11</td>\n",
       "      <td>20.187879</td>\n",
       "    </tr>\n",
       "    <tr>\n",
       "      <th>4</th>\n",
       "      <td>Auburn Gresham</td>\n",
       "      <td>15</td>\n",
       "      <td>25.796667</td>\n",
       "    </tr>\n",
       "  </tbody>\n",
       "</table>\n",
       "</div>"
      ],
      "text/plain": [
       "  neighborhood_id  num_listings  price_norm\n",
       "0     Albany Park            94   28.490166\n",
       "1  Archer Heights             6   50.786111\n",
       "2   Armour Square            97   28.169723\n",
       "3         Ashburn            11   20.187879\n",
       "4  Auburn Gresham            15   25.796667"
      ]
     },
     "execution_count": 14,
     "metadata": {},
     "output_type": "execute_result"
    }
   ],
   "source": [
    "df2 = df[['id','neighbourhood_cleansed','accommodates','price']]\n",
    "df2['price_norm'] = df2.price.str.replace('[\\$\\,\\.]', '').astype(int)/100/df2['accommodates']\n",
    "df2.drop(['accommodates','price'],axis=1,inplace=True)\n",
    "neighborhood_quant = df2.groupby('neighbourhood_cleansed').agg({'id':'count','price_norm':'mean'}).reset_index()\n",
    "neighborhood_quant.sort_values(by='price_norm',ascending=False)\n",
    "neighborhood_quant.columns=['neighborhood_id','num_listings','price_norm']\n",
    "neighborhood_quant.head()"
   ]
  },
  {
   "cell_type": "markdown",
   "metadata": {},
   "source": [
    "# Generate Stopwords"
   ]
  },
  {
   "cell_type": "code",
   "execution_count": 16,
   "metadata": {
    "colab": {
     "base_uri": "https://localhost:8080/",
     "height": 54
    },
    "colab_type": "code",
    "id": "46tjRnUwROnT",
    "outputId": "a4d5c274-23c0-485a-d455-7e890690b5e3"
   },
   "outputs": [
    {
     "name": "stdout",
     "output_type": "stream",
     "text": [
      "['hyde', 'park', 'south', 'lawndale', 'west', 'town', 'lincoln', 'park', 'logan', 'square', 'uptown', 'near', 'north', 'side', 'avondale', 'lake', 'view', 'north', 'center', 'irving', 'park', 'portage', 'park', 'pullman', 'near', 'south', 'side', 'west', 'ridge', 'near', 'west', 'side', 'chatham', 'bridgeport', 'woodlawn', 'albany', 'park', 'kenwood', 'rogers', 'park', 'douglas', 'lincoln', 'square', 'grand', 'boulevard', 'edgewater', 'forest', 'glen', 'humboldt', 'park', 'loop', 'lower', 'west', 'side', 'north', 'lawndale', 'oakland', 'austin', 'east', 'garfield', 'park', 'beverly', 'mckinley', 'park', 'norwood', 'park', 'washington', 'park', 'morgan', 'park', 'west', 'lawn', 'armour', 'square', 'south', 'shore', 'dunning', 'englewood', 'south', 'deering', 'auburn', 'gresham', 'west', 'garfield', 'park', 'hermosa', 'hegewisch', 'south', 'chicago', 'belmont', 'cragin', 'north', 'park', 'greater', 'grand', 'crossing', 'jefferson', 'park', 'west', 'elsdon', 'ashburn', 'garfield', 'ridge', 'brighton', 'park', 'archer', 'heights', 'edison', 'park', 'new', 'city', 'gage', 'park', 'montclare', 'roseland', 'west', 'englewood', 'avalon', 'park', 'clearing', 'calumet', 'heights', 'fuller', 'park', 'west', 'pullman', 'washington', 'heights', 'ohare', 'chicago', 'lawn', 'mount', 'greenwood', 'riverdale']\n"
     ]
    }
   ],
   "source": [
    "neighborhoods = df.neighbourhood_cleansed.unique()\n",
    "neighborhood_words = [words for segments in neighborhoods for words in str(segments).lower().split()]\n",
    "print(neighborhood_words)"
   ]
  },
  {
   "cell_type": "code",
   "execution_count": 54,
   "metadata": {
    "colab": {
     "base_uri": "https://localhost:8080/",
     "height": 54
    },
    "colab_type": "code",
    "id": "lhdA6HiCG3cb",
    "outputId": "d9d18ee4-d87c-426c-b577-efd63e315d0e"
   },
   "outputs": [],
   "source": [
    "sw = stopwords.words(\"english\")\n",
    "sw.extend(['neighborhoods','neighborhood','one','mi', 'etc','take', 'ave','attractions',\n",
    "           'walk','away','blocks','block','area','apartment','around','minutes','public',\n",
    "           'many','within','minute','departure','get','like','even','access',\"you're\",'two',\n",
    "           'street','streets','right','best','distance','located','also','building','close',\n",
    "           'avenue','near','please','hidden','number','could','go','lot','set','upon',\n",
    "           'plenty','th', 'location', 'st', 'airbnb', 'far', 'min', 'mins', 'everything',\n",
    "           'along','dozen','would','return','several','atmosphere','https','www','com',\n",
    "           'lots', 'nearby', 'find', 'it’s', 'place', 'lined','predominantly','easy',\n",
    "           'highlights','blvd','website','still','offer','always','end','great','downtown',\n",
    "           'whole','foods','trader','joes','across','including','need','day','full','stop',\n",
    "           'much','feel','tons','next','see','part','want','hour','less','major','top',\n",
    "           'offers','areas','really','years','spot','make','way','coming','check','things',\n",
    "           'nd','starbucks','back','surrounded','main','yet','excellent','quite','come',\n",
    "          'michigan','mile','wrigley','chicago’s','bucktown','wrigleyville','andersonville',\n",
    "          'magnificent','pilsen','cubs','mccormick','milwaukee','boystown','grant','clark',\n",
    "          'you’ll','via','—','half','illinois','walgreens','shedd','damen','second',\n",
    "          'largest','roscoe','numerous','situated','addison','hare','filled','you’re',\n",
    "          'surrounding','features','include','oak','better','fulton','willis','called',\n",
    "          'something','l','enough','experience','bean','destination','three','row',\n",
    "          'anywhere','may','bronzeville','rental','considered','late','el','available',\n",
    "          'amenities','directly','loyola','living','property','play','five','edge',\n",
    "          'hear','name','includes','randolph','halsted','we’re','head','reviews','depaul',\n",
    "          'unit','year','recently','convention','offering','hall','read','wells','staying',\n",
    "          'addition','miss','road','montrose','eastern','avenues','alike','makes','spend',\n",
    "          'know','lived','takes','sought','try','line','well','miles','ride','village',\n",
    "           'corner','know','options','united','spots','visit','uber','buildings','front',\n",
    "          'stay','door','middle','time','us','owned','countless','run','country','southport',\n",
    "          'stops','proximity','class','national','stadium','target','lines','fine','become',\n",
    "          'course','plus','live','every','nice','navy','pier','millenium','looking','high',\n",
    "          'northwest','spaces','long','condo','worlds','city’s','morning','state','four',\n",
    "          'named','sure','hub','la','uic','tour'])\n",
    "sw.extend(neighborhood_words)"
   ]
  },
  {
   "cell_type": "code",
   "execution_count": 55,
   "metadata": {},
   "outputs": [],
   "source": [
    "with open(\"stopwords.txt\", \"wb\") as fp: \n",
    "      pickle.dump(sw, fp)"
   ]
  },
  {
   "cell_type": "markdown",
   "metadata": {},
   "source": [
    "# Generate Neighborhood Datasets\n",
    "Features are words that appear in >1% of all entries"
   ]
  },
  {
   "cell_type": "code",
   "execution_count": 56,
   "metadata": {
    "colab": {},
    "colab_type": "code",
    "id": "RKL8mVpMFtHg"
   },
   "outputs": [],
   "source": [
    "def clean(text):\n",
    "  for c in \",.!-/:·;()*&[]_—~`\\\"+=\\|'?<>^%$#@•–0123456789\":\n",
    "    text = text.replace(c, \" \")\n",
    "  return text.lower()"
   ]
  },
  {
   "cell_type": "code",
   "execution_count": 57,
   "metadata": {},
   "outputs": [],
   "source": [
    "all_words = clean(df.neighborhood_overview.str.cat(sep=' '))\n",
    "all_top = pd.DataFrame(Counter(all_words.split()).most_common(), columns=['word','freq'])\n",
    "all_top = all_top[~all_top.word.isin(sw)]"
   ]
  },
  {
   "cell_type": "code",
   "execution_count": 58,
   "metadata": {},
   "outputs": [
    {
     "name": "stdout",
     "output_type": "stream",
     "text": [
      "['restaurants', 'bars', 'walking', 'shops', 'coffee', 'shopping', 'field', 'home', 'quiet', 'train', 'local', 'art', 'wicker', 'food', 'museum', 'historic', 'grocery', 'river', 'bar', 'stores', 'beautiful', 'transportation', 'music', 'safe', 'short', 'bus', 'parks', 'district', 'house', 'community', 'university', 'nightlife', 'old', 'dining', 'beach', 'drive', 'night', 'lakeview', 'diverse', 'heart', 'enjoy', 'popular', 'restaurant', 'market', 'known', 'store', 'friendly', 'entertainment', 'tree', 'theater', 'blue', 'residential', 'little', 'boutiques', 'famous', 'family', 'bike', 'venues', 'galleries', 'vibrant', 'places', 'mexican', 'green', 'lakefront', 'steps', 'station', 'love', 'people', 'cafes', 'amazing', 'trendy', 'free', 'trail', 'scene', 'museums', 'history', 'red', 'shop', 'parking', 'cultural', 'campus', 'zoo', 'pizza', 'cafe', 'fun', 'culture', 'space', 'unique', 'homes', 'views', 'good', 'small', 'young', 'lively', 'quick', 'cta', 'world', 'mix', 'favorite', 'ukrainian', 'american', 'bustling', 'theatre', 'explore', 'hip', 'arts', 'coast', 'car', 'architecture', 'perfect', 'division', 'life', 'outside', 'vintage', 'big', 'tower', 'urban', 'events', 'gold', 'walkable', 'airport', 'variety', 'conveniently', 'millennium', 'italian', 'craft', 'work', 'professionals', 'families', 'game', 'cocktail', 'guests', 'convenient', 'beaches', 'charming', 'clubs', 'hospital', 'transit', 'brewery', 'neighbors', 'summer', 'eateries', 'easily', 'breakfast', 'stroll', 'aquarium', 'large', 'beer', 'wonderful', 'brown', 'comedy', 'taste', 'chinatown', 'room', 'soldier', 'hottest', 'institute', 'boutique', 'authentic', 'sports', 'residents', 'drink', 'movie', 'medical', 'accessible', 'outdoor', 'eat', 'incredible', 'hot', 'houses', 'open', 'brunch', 'cocktails', 'farmers', 'club', 'business', 'couple', 'endless', 'jewel', 'blend', 'theaters', 'ethnic', 'style', 'historical', 'businesses', 'michelin', 'upscale', 'safest', 'brick', 'catch', 'path', 'cool', 'creative', 'tourist', 'eclectic', 'corridor', 'locals', 'biking', 'locally', 'fantastic', 'award', 'furnished', 'independent', 'school', 'winning', 'retail', 'landmark', 'classic', 'rush', 'stunning', 'districts', 'breweries', 'noise', 'central', 'baseball', 'modern', 'dive', 'delicious', 'western', 'metra', 'cuisine', 'bakeries', 'festivals', 'gardens', 'wine', 'centrally', 'vibe', 'fresh', 'artists', 'pool', 'rated', 'boasts', 'star', 'iconic', 'industry', 'thriving', 'different', 'running', 'dynamic', 'chinese', 'flat', 'office', 'science', 'library', 'fans', 'activities', 'collection', 'renowned', 'blues', 'working', 'convenience', 'buses', 'quaint', 'runs', 'rich', 'exploring', 'book', 'awesome', 'super', 'students', 'sushi', 'water', 'white', 'diversity', 'casual', 'elevated', 'ice', 'italy', 'planetarium', 'drinks', 'sits', 'energy', 'nature', 'huge', 'trendiest', 'booming', 'premier', 'tennis', 'chicken', 'jazz', 'polish', 'subway', 'fitness', 'divvy', 'african', 'broadway', 'traffic']\n",
      "287\n"
     ]
    }
   ],
   "source": [
    "threshold = len(df.neighborhood_overview)*0.01\n",
    "\n",
    "top_words = all_top[all_top.freq > threshold].word.tolist()\n",
    "print(top_words)\n",
    "print(len(top_words))"
   ]
  },
  {
   "cell_type": "code",
   "execution_count": 68,
   "metadata": {
    "scrolled": true
   },
   "outputs": [
    {
     "name": "stderr",
     "output_type": "stream",
     "text": [
      "/usr/local/lib/python3.7/site-packages/ipykernel_launcher.py:7: SettingWithCopyWarning: \n",
      "A value is trying to be set on a copy of a slice from a DataFrame.\n",
      "Try using .loc[row_indexer,col_indexer] = value instead\n",
      "\n",
      "See the caveats in the documentation: http://pandas.pydata.org/pandas-docs/stable/indexing.html#indexing-view-versus-copy\n",
      "  import sys\n"
     ]
    },
    {
     "name": "stdout",
     "output_type": "stream",
     "text": [
      "Hyde Park ['university', 'museum', 'home', 'walking', 'restaurants', 'shopping', 'historic', 'science', 'industry', 'museums']\n",
      "South Lawndale ['little', 'mexican', 'restaurants', 'brewery', 'shops', 'amazing', 'people', 'local', 'train', 'mexico']\n",
      "West Town ['wicker', 'restaurants', 'bars', 'shops', 'coffee', 'ukrainian', 'walking', 'art', 'shopping', 'division']\n",
      "Lincoln Park ['restaurants', 'zoo', 'shops', 'tree', 'old', 'bars', 'walking', 'historic', 'beach', 'shopping']\n",
      "Logan Square ['restaurants', 'bars', 'coffee', 'local', 'shops', 'wicker', 'walking', 'trail', 'food', 'market']\n",
      "Uptown ['restaurants', 'shops', 'coffee', 'green', 'walking', 'bars', 'mill', 'riviera', 'aragon', 'home']\n",
      "Near North Side ['river', 'restaurants', 'shopping', 'coast', 'gold', 'bars', 'old', 'shops', 'walking', 'art']\n",
      "Avondale ['restaurants', 'bars', 'blue', 'walking', 'food', 'bar', 'home', 'train', 'short', 'local']\n",
      "Lake View ['lakeview', 'restaurants', 'field', 'bars', 'shops', 'walking', 'home', 'game', 'shopping', 'theater']\n",
      "North Center ['restaurants', 'bars', 'walking', 'shops', 'field', 'friendly', 'safe', 'lakeview', 'food', 'shopping']\n",
      "Irving Park ['restaurants', 'old', 'walking', 'quiet', 'safe', 'blue', 'coffee', 'bus', 'grocery', 'friendly']\n",
      "Portage Park ['transportation', 'restaurants', 'parks', 'beautiful', 'walking', 'safe', 'quiet', 'car', 'stores', 'friendly']\n",
      "Pullman ['monument', 'community', 'historic', 'house', 'historical', 'history', 'visitor', 'labor', 'unique', 'built']\n",
      "Near South Side ['field', 'museum', 'aquarium', 'walking', 'drive', 'soldier', 'campus', 'tourist', 'short', 'green']\n",
      "West Ridge ['red', 'crime', 'walking', 'restaurants', 'diverse', 'quiet', 'food', 'ethnic', 'senegalese', 'lowest']\n",
      "Near West Side ['restaurants', 'market', 'quiet', 'medical', 'district', 'hospital', 'guests', 'university', 'little', 'night']\n",
      "Chatham ['quiet', 'light', 'restaurants', 'community', 'train', 'walmart', 'housing', 'employees', 'officials', 'central']\n",
      "Bridgeport ['restaurants', 'coffee', 'art', 'chinatown', 'home', 'sox', 'drive', 'white', 'field', 'house']\n",
      "Woodlawn ['university', 'museum', 'events', 'rd', 'drive', 'jackson', 'coffee', 'campus', 'african', 'american']\n",
      "Albany Park ['restaurants', 'diverse', 'walking', 'river', 'quiet', 'mexican', 'shops', 'brown', 'university', 'grocery']\n",
      "Kenwood ['university', 'beautiful', 'historic', 'restaurants', 'museum', 'walking', 'art', 'home', 'festivals', 'jazz']\n",
      "Rogers Park ['restaurants', 'diverse', 'train', 'university', 'beach', 'walking', 'shops', 'coffee', 'evanston', 'bars']\n",
      "Douglas ['historic', 'restaurants', 'field', 'walking', 'home', 'white', 'campus', 'lakefront', 'people', 'house']\n",
      "Lincoln Square ['restaurants', 'shops', 'walking', 'bars', 'german', 'shopping', 'family', 'music', 'old', 'ravenswood']\n",
      "Grand Boulevard ['historic', 'drive', 'restaurants', 'bike', 'walking', 'university', 'museum', 'home', 'beach', 'urban']\n",
      "Edgewater ['restaurants', 'beach', 'walking', 'shops', 'train', 'local', 'swedish', 'coffee', 'bars', 'shopping']\n",
      "Forest Glen ['quiet', 'preserve', 'family', 'houses', 'car', 'expressway', 'restaurants', 'homes', 'shops', 'friendly']\n",
      "Humboldt Park ['restaurants', 'bars', 'trail', 'local', 'wicker', 'walking', 'shops', 'quiet', 'field', 'beautiful']\n",
      "Loop ['views', 'museum', 'shopping', 'field', 'stunning', 'tower', 'cultural', 'restaurants', 'art', 'millennium']\n",
      "Lower West Side ['mexican', 'art', 'restaurants', 'museum', 'food', 'shops', 'culture', 'thalia', 'galleries', 'bars']\n",
      "North Lawndale ['people', 'walking', 'train', 'hello', 'african', 'urban', 'mexican', 'food', 'american', 'say']\n",
      "Oakland ['walking', 'lakefront', 'beautiful', 'historic', 'home', 'bar', 'beaches', 'bike', 'trails', 'museum']\n",
      "Austin ['community', 'restaurants', 'diverse', 'lloyd', 'frank', 'wright', 'train', 'historic', 'quiet', 'beautiful']\n",
      "East Garfield Park ['train', 'conservatory', 'coffee', 'restaurants', 'house', 'minuets', 'people', 'field', 'medical', 'bars']\n",
      "Beverly ['shopping', 'district', 'safe', 'architecture', 'irish', 'quiet', 'frank', 'wright', 'walking', 'diverse']\n",
      "Mckinley Park ['restaurants', 'stores', 'orange', 'bus', 'convenient', 'white', 'family', 'grocery', 'train', 'walking']\n",
      "Norwood Park ['restaurants', 'walking', 'safe', 'airport', 'grocery', 'drive', 'rosemont', 'stores', 'quiet', 'station']\n",
      "Washington Park ['walking', 'train', 'university', 'inside', 'green', 'historical', 'station', 'per', 'provide', 'apartments']\n",
      "Morgan Park ['art', 'short', 'night', 'local', 'architecture', 'historic', 'house', 'restaurants', 'quality', 'classes']\n",
      "West Lawn ['food', 'mexican', 'airport', 'worried', 'case', 'family', 'chatting', 'green', 'mean', 'midway']\n",
      "Armour Square ['chinatown', 'chinese', 'restaurants', 'field', 'food', 'heart', 'walking', 'soldier', 'wentworth', 'shops']\n",
      "South Shore ['drive', 'golf', 'museum', 'quiet', 'jackson', 'science', 'beach', 'beautiful', 'industry', 'university']\n",
      "Dunning ['rosemont', 'quiet', 'walking', 'restaurants', 'indoor', 'italian', 'safe', 'hip', 'mall', 'family']\n",
      "Englewood ['friendly', 'neighbors', 'transportation', 'quiet', 'community', 'safe', 'drive', 'shopping', 'cafe', 'stores']\n",
      "South Deering ['quiet', 'fairly', 'wanted', 'lite', 'party', 'barbeque', 'fit', 'summer', 'mostly', 'hospital']\n",
      "Auburn Gresham ['freeways', 'restaurant', 'family', 'grocery', 'stores', 'walmart', 'aldi', 'bus', 'train', 'expressway']\n",
      "West Garfield Park ['minuets', 'conservatory', 'bus', 'free', 'millennium', 'shed', 'aquarium', 'field', 'drive', 'sears']\n",
      "Hermosa ['restaurants', 'walking', 'bars', 'family', 'food', 'shopping', 'quiet', 'w', 'trail', 'grab']\n",
      "Hegewisch ['train', 'community', 'nature', 'preserve', 'large', 'parking', 'multiple', 'adolph', 'planned', 'establish']\n",
      "South Chicago ['quiet', 'beach', 'car', 'university', 'residential', 'horseshoe', 'casino', 'jackson', 'bus', 'hospital']\n",
      "Belmont Cragin ['walking', 'restaurants', 'quiet', 'stores', 'mall', 'safe', 'transportation', 'mcdonalds', 'restaurant', 'neighbors']\n",
      "North Park ['parks', 'quiet', 'walking', 'university', 'safe', 'restaurants', 'river', 'trails', 'family', 'preserve']\n",
      "Greater Grand Crossing ['quiet', 'residents', 'homes', 'businesses', 'night', 'home', 'house', 'pedestrians', 'shortage', 'route']\n",
      "Jefferson Park ['restaurants', 'blue', 'quiet', 'airport', 'copernicus', 'store', 'friendly', 'bus', 'grocery', 'station']\n",
      "West Elsdon ['midway', 'pulaski', 'walking', 'grocery', 'bus', 'orange', 'local', 'restaurants', 'international', 'airport']\n",
      "Ashburn ['quiet', 'police', 'restaurants', 'airport', 'community', 'safe', 'families', 'midway', 'shops', 'ask']\n",
      "Garfield Ridge ['midway', 'airport', 'quiet', 'free', 'safe', 'restaurants', 'family', 'parking', 'walking', 'vittum']\n",
      "Brighton Park ['restaurants', 'coffee', 'gym', 'shops', 'stores', 'walking', 'drive', 'midway', 'little', 'plaza']\n",
      "Archer Heights ['pizza', 'places', 'restaurants', 'grocery', 'stores', 'style', 'giordano', 'beggar', 'mexican', 'dine']\n",
      "Edison Park ['safest', 'nicest', 'almost', 'exclusively', 'families', 'police', 'fire', 'workers', 'incredible', 'restaurants']\n",
      "New City ['light', 'traffic', 'stores', 'yards', 'there’s', 'restaurants', 'walking', 'international', 'airport', 'cta']\n",
      "Gage Park ['diverse', 'colorful', 'southwest', 'safe', 'security', 'cameras', 'free', 'parking', 'big', 'pretty']\n",
      "Montclare []\n",
      "Roseland ['quiet', 'rosemoor', 'owners', 'families', 'retirees', 'historic', 'chesterfield', 'small', 'historically', 'african']\n",
      "West Englewood ['children', 'laughter', 'friendly', 'food', 'house', 'police', 'station', 'neighbors', 'parks', 'chipotle']\n",
      "Avalon Park ['quiet', 'univ', 'lakefront', 'beaches', 'hospitals', 'working', 'temporarily', 'advocate', 'trinity', 'jackson']\n",
      "Clearing ['charming', 'cozy', 'home', 'quiet', 'walking', 'local', 'places', 'eat', 'gallo', 'authentic']\n",
      "Calumet Heights ['night', 'quiet', 'children', 'museum', 'car', 'transportation', 'couple', 'clubs', 'restaurants', 'working']\n",
      "Fuller Park ['grocery', 'stores', 'extremely', 'urban', 'midway', 'airport', 'w', 'walking', 'university']\n",
      "West Pullman []\n",
      "Washington Heights ['train', 'brainerd', 'metra', 'i’m', 'expressway', 'guest', 'driving', 'indiana', 'bus', 'popular']\n",
      "Ohare ['safe', 'des', 'plaines', 'river', 'quiet', 'conveniently', 'stores', 'love', 'friendly', 'outdoor']\n"
     ]
    },
    {
     "name": "stdout",
     "output_type": "stream",
     "text": [
      "Chicago Lawn ['de', 'un', 'friendly', 'children', 'millas', 'del', 'aeropuerto', 'internacional', 'midway', 'cerca']\n",
      "Mount Greenwood ['night', 'food', 'restaurants', 'nightlife', 'bars', 'transportation', 'parks', 'jewel', 'isco', 'cvs']\n",
      "Riverdale ['suburbs', 'train', 'bus', 'combo', 'recommended', 'red', 'connect', 'redline', 'hr', 'quiet']\n"
     ]
    }
   ],
   "source": [
    "nb_maps = {}\n",
    "for nb in df['neighbourhood_cleansed'].unique():\n",
    "  words = df[df['neighbourhood_cleansed']==nb].dropna(subset=['neighborhood_overview'])\n",
    "  words_str = clean(words.neighborhood_overview.str.cat(sep=' '))\n",
    "  words_top = pd.DataFrame(Counter(words_str.split()).most_common(), columns=['word','freq'])\n",
    "  words_cleaned = words_top[~words_top.word.isin(sw)]\n",
    "  words_cleaned['freq_norm'] = words_cleaned.freq/len(words)\n",
    "  print(nb,words_cleaned.word[:10].tolist())\n",
    "  nb_maps[nb] = words_cleaned"
   ]
  },
  {
   "cell_type": "code",
   "execution_count": 69,
   "metadata": {
    "colab": {},
    "colab_type": "code",
    "id": "p6Bf5zFy_gBL"
   },
   "outputs": [],
   "source": [
    "def get_freq(word):\n",
    "  test = pd.DataFrame(columns=['neighborhood','freq','word'])\n",
    "  for key in nb_maps.keys():\n",
    "    words = nb_maps[key]\n",
    "    if len(words.loc[words['word']==word]['freq_norm'])>0:\n",
    "      test = test.append({'word':word,\n",
    "                          'neighborhood':key,\n",
    "                          'freq':words.loc[words['word']==word]['freq_norm'].item()\n",
    "                         },ignore_index=True)\n",
    "  return test.sort_values(by='freq',ascending=False)"
   ]
  },
  {
   "cell_type": "code",
   "execution_count": 70,
   "metadata": {
    "colab": {},
    "colab_type": "code",
    "id": "zLqXD7Z3H9UD"
   },
   "outputs": [],
   "source": [
    "all_nbs = list(nb_maps.keys())\n",
    "clrs = sns.color_palette('hls', n_colors=len(all_nbs)) \n",
    "colors = {}\n",
    "for i in range(len(all_nbs)):\n",
    "  colors[all_nbs[i]] = clrs[i]"
   ]
  },
  {
   "cell_type": "code",
   "execution_count": 71,
   "metadata": {
    "colab": {
     "base_uri": "https://localhost:8080/",
     "height": 1000
    },
    "colab_type": "code",
    "id": "pKOAM0ahlQs8",
    "outputId": "eb60ad8c-9867-4993-f210-834914ca3965",
    "scrolled": true
   },
   "outputs": [],
   "source": [
    "all_words = pd.DataFrame(columns=['neighborhood','freq','word'])\n",
    "for word in top_words:\n",
    "  freqs = get_freq(word)\n",
    "#   freqs.plot(x='neighborhood',y='freq',title=word,kind='bar',legend=False,\n",
    "#              color=freqs['neighborhood'].apply(lambda x: colors[x]))\n",
    "#   plt.savefig('images/barchart_'+word+'.png',bbox_inches = \"tight\")\n",
    "  all_words = all_words.append(freqs)"
   ]
  },
  {
   "cell_type": "code",
   "execution_count": 72,
   "metadata": {
    "scrolled": true
   },
   "outputs": [
    {
     "data": {
      "text/html": [
       "<div>\n",
       "<style scoped>\n",
       "    .dataframe tbody tr th:only-of-type {\n",
       "        vertical-align: middle;\n",
       "    }\n",
       "\n",
       "    .dataframe tbody tr th {\n",
       "        vertical-align: top;\n",
       "    }\n",
       "\n",
       "    .dataframe thead th {\n",
       "        text-align: right;\n",
       "    }\n",
       "</style>\n",
       "<table border=\"1\" class=\"dataframe\">\n",
       "  <thead>\n",
       "    <tr style=\"text-align: right;\">\n",
       "      <th>word</th>\n",
       "      <th>neighborhood_id</th>\n",
       "      <th>accessible</th>\n",
       "      <th>activities</th>\n",
       "      <th>african</th>\n",
       "      <th>airport</th>\n",
       "      <th>amazing</th>\n",
       "      <th>american</th>\n",
       "      <th>aquarium</th>\n",
       "      <th>architecture</th>\n",
       "      <th>art</th>\n",
       "      <th>...</th>\n",
       "      <th>white</th>\n",
       "      <th>wicker</th>\n",
       "      <th>wine</th>\n",
       "      <th>winning</th>\n",
       "      <th>wonderful</th>\n",
       "      <th>work</th>\n",
       "      <th>working</th>\n",
       "      <th>world</th>\n",
       "      <th>young</th>\n",
       "      <th>zoo</th>\n",
       "    </tr>\n",
       "  </thead>\n",
       "  <tbody>\n",
       "    <tr>\n",
       "      <th>0</th>\n",
       "      <td>Albany Park</td>\n",
       "      <td>0.042857</td>\n",
       "      <td>0.0</td>\n",
       "      <td>0.014286</td>\n",
       "      <td>0.071429</td>\n",
       "      <td>0.057143</td>\n",
       "      <td>0.057143</td>\n",
       "      <td>0.0</td>\n",
       "      <td>0.014286</td>\n",
       "      <td>0.014286</td>\n",
       "      <td>...</td>\n",
       "      <td>0.014286</td>\n",
       "      <td>0.014286</td>\n",
       "      <td>0.071429</td>\n",
       "      <td>0.0</td>\n",
       "      <td>0.0</td>\n",
       "      <td>0.0</td>\n",
       "      <td>0.000000</td>\n",
       "      <td>0.071429</td>\n",
       "      <td>0.014286</td>\n",
       "      <td>0.0</td>\n",
       "    </tr>\n",
       "    <tr>\n",
       "      <th>1</th>\n",
       "      <td>Archer Heights</td>\n",
       "      <td>0.000000</td>\n",
       "      <td>0.0</td>\n",
       "      <td>0.000000</td>\n",
       "      <td>0.000000</td>\n",
       "      <td>0.000000</td>\n",
       "      <td>0.000000</td>\n",
       "      <td>0.0</td>\n",
       "      <td>0.000000</td>\n",
       "      <td>0.000000</td>\n",
       "      <td>...</td>\n",
       "      <td>0.000000</td>\n",
       "      <td>0.000000</td>\n",
       "      <td>0.000000</td>\n",
       "      <td>0.0</td>\n",
       "      <td>0.0</td>\n",
       "      <td>0.0</td>\n",
       "      <td>0.000000</td>\n",
       "      <td>0.000000</td>\n",
       "      <td>0.000000</td>\n",
       "      <td>0.0</td>\n",
       "    </tr>\n",
       "    <tr>\n",
       "      <th>2</th>\n",
       "      <td>Armour Square</td>\n",
       "      <td>0.017241</td>\n",
       "      <td>0.0</td>\n",
       "      <td>0.000000</td>\n",
       "      <td>0.000000</td>\n",
       "      <td>0.000000</td>\n",
       "      <td>0.000000</td>\n",
       "      <td>0.0</td>\n",
       "      <td>0.000000</td>\n",
       "      <td>0.103448</td>\n",
       "      <td>...</td>\n",
       "      <td>0.034483</td>\n",
       "      <td>0.000000</td>\n",
       "      <td>0.000000</td>\n",
       "      <td>0.0</td>\n",
       "      <td>0.0</td>\n",
       "      <td>0.0</td>\n",
       "      <td>0.000000</td>\n",
       "      <td>0.051724</td>\n",
       "      <td>0.000000</td>\n",
       "      <td>0.0</td>\n",
       "    </tr>\n",
       "    <tr>\n",
       "      <th>3</th>\n",
       "      <td>Ashburn</td>\n",
       "      <td>0.000000</td>\n",
       "      <td>0.0</td>\n",
       "      <td>0.000000</td>\n",
       "      <td>0.555556</td>\n",
       "      <td>0.000000</td>\n",
       "      <td>0.000000</td>\n",
       "      <td>0.0</td>\n",
       "      <td>0.000000</td>\n",
       "      <td>0.000000</td>\n",
       "      <td>...</td>\n",
       "      <td>0.000000</td>\n",
       "      <td>0.000000</td>\n",
       "      <td>0.000000</td>\n",
       "      <td>0.0</td>\n",
       "      <td>0.0</td>\n",
       "      <td>0.0</td>\n",
       "      <td>0.111111</td>\n",
       "      <td>0.000000</td>\n",
       "      <td>0.000000</td>\n",
       "      <td>0.0</td>\n",
       "    </tr>\n",
       "    <tr>\n",
       "      <th>4</th>\n",
       "      <td>Auburn Gresham</td>\n",
       "      <td>0.000000</td>\n",
       "      <td>0.0</td>\n",
       "      <td>0.000000</td>\n",
       "      <td>0.000000</td>\n",
       "      <td>0.000000</td>\n",
       "      <td>0.000000</td>\n",
       "      <td>0.0</td>\n",
       "      <td>0.000000</td>\n",
       "      <td>0.000000</td>\n",
       "      <td>...</td>\n",
       "      <td>0.000000</td>\n",
       "      <td>0.000000</td>\n",
       "      <td>0.000000</td>\n",
       "      <td>0.0</td>\n",
       "      <td>0.0</td>\n",
       "      <td>0.0</td>\n",
       "      <td>0.083333</td>\n",
       "      <td>0.000000</td>\n",
       "      <td>0.000000</td>\n",
       "      <td>0.0</td>\n",
       "    </tr>\n",
       "  </tbody>\n",
       "</table>\n",
       "<p>5 rows × 288 columns</p>\n",
       "</div>"
      ],
      "text/plain": [
       "word neighborhood_id  accessible  activities   african   airport   amazing  \\\n",
       "0        Albany Park    0.042857         0.0  0.014286  0.071429  0.057143   \n",
       "1     Archer Heights    0.000000         0.0  0.000000  0.000000  0.000000   \n",
       "2      Armour Square    0.017241         0.0  0.000000  0.000000  0.000000   \n",
       "3            Ashburn    0.000000         0.0  0.000000  0.555556  0.000000   \n",
       "4     Auburn Gresham    0.000000         0.0  0.000000  0.000000  0.000000   \n",
       "\n",
       "word  american  aquarium  architecture       art ...      white    wicker  \\\n",
       "0     0.057143       0.0      0.014286  0.014286 ...   0.014286  0.014286   \n",
       "1     0.000000       0.0      0.000000  0.000000 ...   0.000000  0.000000   \n",
       "2     0.000000       0.0      0.000000  0.103448 ...   0.034483  0.000000   \n",
       "3     0.000000       0.0      0.000000  0.000000 ...   0.000000  0.000000   \n",
       "4     0.000000       0.0      0.000000  0.000000 ...   0.000000  0.000000   \n",
       "\n",
       "word      wine  winning  wonderful  work   working     world     young  zoo  \n",
       "0     0.071429      0.0        0.0   0.0  0.000000  0.071429  0.014286  0.0  \n",
       "1     0.000000      0.0        0.0   0.0  0.000000  0.000000  0.000000  0.0  \n",
       "2     0.000000      0.0        0.0   0.0  0.000000  0.051724  0.000000  0.0  \n",
       "3     0.000000      0.0        0.0   0.0  0.111111  0.000000  0.000000  0.0  \n",
       "4     0.000000      0.0        0.0   0.0  0.083333  0.000000  0.000000  0.0  \n",
       "\n",
       "[5 rows x 288 columns]"
      ]
     },
     "execution_count": 72,
     "metadata": {},
     "output_type": "execute_result"
    }
   ],
   "source": [
    "neighborhood_words = pd.pivot_table(all_words,values=['freq'],index='neighborhood',columns=['word'],fill_value=0).reset_index()\n",
    "neighborhood_words.columns = neighborhood_words.columns.droplevel()\n",
    "neighborhood_words.rename(columns={'':'neighborhood_id'},inplace=True)\n",
    "neighborhood_words.head()"
   ]
  },
  {
   "cell_type": "markdown",
   "metadata": {},
   "source": [
    "# Merge Features"
   ]
  },
  {
   "cell_type": "code",
   "execution_count": 73,
   "metadata": {
    "scrolled": true
   },
   "outputs": [
    {
     "data": {
      "text/html": [
       "<div>\n",
       "<style scoped>\n",
       "    .dataframe tbody tr th:only-of-type {\n",
       "        vertical-align: middle;\n",
       "    }\n",
       "\n",
       "    .dataframe tbody tr th {\n",
       "        vertical-align: top;\n",
       "    }\n",
       "\n",
       "    .dataframe thead th {\n",
       "        text-align: right;\n",
       "    }\n",
       "</style>\n",
       "<table border=\"1\" class=\"dataframe\">\n",
       "  <thead>\n",
       "    <tr style=\"text-align: right;\">\n",
       "      <th></th>\n",
       "      <th>neighborhood_id</th>\n",
       "      <th>accessible</th>\n",
       "      <th>activities</th>\n",
       "      <th>african</th>\n",
       "      <th>airport</th>\n",
       "      <th>amazing</th>\n",
       "      <th>american</th>\n",
       "      <th>aquarium</th>\n",
       "      <th>architecture</th>\n",
       "      <th>art</th>\n",
       "      <th>...</th>\n",
       "      <th>wine</th>\n",
       "      <th>winning</th>\n",
       "      <th>wonderful</th>\n",
       "      <th>work</th>\n",
       "      <th>working</th>\n",
       "      <th>world</th>\n",
       "      <th>young</th>\n",
       "      <th>zoo</th>\n",
       "      <th>num_listings</th>\n",
       "      <th>price_norm</th>\n",
       "    </tr>\n",
       "  </thead>\n",
       "  <tbody>\n",
       "    <tr>\n",
       "      <th>0</th>\n",
       "      <td>Albany Park</td>\n",
       "      <td>0.042857</td>\n",
       "      <td>0.0</td>\n",
       "      <td>0.014286</td>\n",
       "      <td>0.071429</td>\n",
       "      <td>0.057143</td>\n",
       "      <td>0.057143</td>\n",
       "      <td>0.0</td>\n",
       "      <td>0.014286</td>\n",
       "      <td>0.014286</td>\n",
       "      <td>...</td>\n",
       "      <td>0.071429</td>\n",
       "      <td>0.0</td>\n",
       "      <td>0.0</td>\n",
       "      <td>0.0</td>\n",
       "      <td>0.000000</td>\n",
       "      <td>0.071429</td>\n",
       "      <td>0.014286</td>\n",
       "      <td>0.0</td>\n",
       "      <td>94</td>\n",
       "      <td>28.490166</td>\n",
       "    </tr>\n",
       "    <tr>\n",
       "      <th>1</th>\n",
       "      <td>Archer Heights</td>\n",
       "      <td>0.000000</td>\n",
       "      <td>0.0</td>\n",
       "      <td>0.000000</td>\n",
       "      <td>0.000000</td>\n",
       "      <td>0.000000</td>\n",
       "      <td>0.000000</td>\n",
       "      <td>0.0</td>\n",
       "      <td>0.000000</td>\n",
       "      <td>0.000000</td>\n",
       "      <td>...</td>\n",
       "      <td>0.000000</td>\n",
       "      <td>0.0</td>\n",
       "      <td>0.0</td>\n",
       "      <td>0.0</td>\n",
       "      <td>0.000000</td>\n",
       "      <td>0.000000</td>\n",
       "      <td>0.000000</td>\n",
       "      <td>0.0</td>\n",
       "      <td>6</td>\n",
       "      <td>50.786111</td>\n",
       "    </tr>\n",
       "    <tr>\n",
       "      <th>2</th>\n",
       "      <td>Armour Square</td>\n",
       "      <td>0.017241</td>\n",
       "      <td>0.0</td>\n",
       "      <td>0.000000</td>\n",
       "      <td>0.000000</td>\n",
       "      <td>0.000000</td>\n",
       "      <td>0.000000</td>\n",
       "      <td>0.0</td>\n",
       "      <td>0.000000</td>\n",
       "      <td>0.103448</td>\n",
       "      <td>...</td>\n",
       "      <td>0.000000</td>\n",
       "      <td>0.0</td>\n",
       "      <td>0.0</td>\n",
       "      <td>0.0</td>\n",
       "      <td>0.000000</td>\n",
       "      <td>0.051724</td>\n",
       "      <td>0.000000</td>\n",
       "      <td>0.0</td>\n",
       "      <td>97</td>\n",
       "      <td>28.169723</td>\n",
       "    </tr>\n",
       "    <tr>\n",
       "      <th>3</th>\n",
       "      <td>Ashburn</td>\n",
       "      <td>0.000000</td>\n",
       "      <td>0.0</td>\n",
       "      <td>0.000000</td>\n",
       "      <td>0.555556</td>\n",
       "      <td>0.000000</td>\n",
       "      <td>0.000000</td>\n",
       "      <td>0.0</td>\n",
       "      <td>0.000000</td>\n",
       "      <td>0.000000</td>\n",
       "      <td>...</td>\n",
       "      <td>0.000000</td>\n",
       "      <td>0.0</td>\n",
       "      <td>0.0</td>\n",
       "      <td>0.0</td>\n",
       "      <td>0.111111</td>\n",
       "      <td>0.000000</td>\n",
       "      <td>0.000000</td>\n",
       "      <td>0.0</td>\n",
       "      <td>11</td>\n",
       "      <td>20.187879</td>\n",
       "    </tr>\n",
       "    <tr>\n",
       "      <th>4</th>\n",
       "      <td>Auburn Gresham</td>\n",
       "      <td>0.000000</td>\n",
       "      <td>0.0</td>\n",
       "      <td>0.000000</td>\n",
       "      <td>0.000000</td>\n",
       "      <td>0.000000</td>\n",
       "      <td>0.000000</td>\n",
       "      <td>0.0</td>\n",
       "      <td>0.000000</td>\n",
       "      <td>0.000000</td>\n",
       "      <td>...</td>\n",
       "      <td>0.000000</td>\n",
       "      <td>0.0</td>\n",
       "      <td>0.0</td>\n",
       "      <td>0.0</td>\n",
       "      <td>0.083333</td>\n",
       "      <td>0.000000</td>\n",
       "      <td>0.000000</td>\n",
       "      <td>0.0</td>\n",
       "      <td>15</td>\n",
       "      <td>25.796667</td>\n",
       "    </tr>\n",
       "  </tbody>\n",
       "</table>\n",
       "<p>5 rows × 290 columns</p>\n",
       "</div>"
      ],
      "text/plain": [
       "  neighborhood_id  accessible  activities   african   airport   amazing  \\\n",
       "0     Albany Park    0.042857         0.0  0.014286  0.071429  0.057143   \n",
       "1  Archer Heights    0.000000         0.0  0.000000  0.000000  0.000000   \n",
       "2   Armour Square    0.017241         0.0  0.000000  0.000000  0.000000   \n",
       "3         Ashburn    0.000000         0.0  0.000000  0.555556  0.000000   \n",
       "4  Auburn Gresham    0.000000         0.0  0.000000  0.000000  0.000000   \n",
       "\n",
       "   american  aquarium  architecture       art     ...          wine  winning  \\\n",
       "0  0.057143       0.0      0.014286  0.014286     ...      0.071429      0.0   \n",
       "1  0.000000       0.0      0.000000  0.000000     ...      0.000000      0.0   \n",
       "2  0.000000       0.0      0.000000  0.103448     ...      0.000000      0.0   \n",
       "3  0.000000       0.0      0.000000  0.000000     ...      0.000000      0.0   \n",
       "4  0.000000       0.0      0.000000  0.000000     ...      0.000000      0.0   \n",
       "\n",
       "   wonderful  work   working     world     young  zoo  num_listings  \\\n",
       "0        0.0   0.0  0.000000  0.071429  0.014286  0.0            94   \n",
       "1        0.0   0.0  0.000000  0.000000  0.000000  0.0             6   \n",
       "2        0.0   0.0  0.000000  0.051724  0.000000  0.0            97   \n",
       "3        0.0   0.0  0.111111  0.000000  0.000000  0.0            11   \n",
       "4        0.0   0.0  0.083333  0.000000  0.000000  0.0            15   \n",
       "\n",
       "   price_norm  \n",
       "0   28.490166  \n",
       "1   50.786111  \n",
       "2   28.169723  \n",
       "3   20.187879  \n",
       "4   25.796667  \n",
       "\n",
       "[5 rows x 290 columns]"
      ]
     },
     "execution_count": 73,
     "metadata": {},
     "output_type": "execute_result"
    }
   ],
   "source": [
    "merged = pd.merge(neighborhood_words,neighborhood_quant)\n",
    "merged.head()"
   ]
  },
  {
   "cell_type": "code",
   "execution_count": 74,
   "metadata": {},
   "outputs": [
    {
     "data": {
      "text/plain": [
       "Index(['neighborhood_id', 'accessible', 'activities', 'african', 'airport',\n",
       "       'amazing', 'american', 'aquarium', 'architecture', 'art',\n",
       "       ...\n",
       "       'wine', 'winning', 'wonderful', 'work', 'working', 'world', 'young',\n",
       "       'zoo', 'num_listings', 'price_norm'],\n",
       "      dtype='object', length=290)"
      ]
     },
     "execution_count": 74,
     "metadata": {},
     "output_type": "execute_result"
    }
   ],
   "source": [
    "merged.columns"
   ]
  },
  {
   "cell_type": "code",
   "execution_count": 75,
   "metadata": {},
   "outputs": [],
   "source": [
    "merged.to_csv('cleaned_data/airbnb.csv',index=False)"
   ]
  }
 ],
 "metadata": {
  "colab": {
   "collapsed_sections": [],
   "name": "nyc-listings.ipynb",
   "provenance": []
  },
  "kernelspec": {
   "display_name": "Python 3",
   "language": "python",
   "name": "python3"
  },
  "language_info": {
   "codemirror_mode": {
    "name": "ipython",
    "version": 3
   },
   "file_extension": ".py",
   "mimetype": "text/x-python",
   "name": "python",
   "nbconvert_exporter": "python",
   "pygments_lexer": "ipython3",
   "version": "3.7.4"
  }
 },
 "nbformat": 4,
 "nbformat_minor": 1
}
