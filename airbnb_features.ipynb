{
 "cells": [
  {
   "cell_type": "code",
   "execution_count": 33,
   "metadata": {
    "colab": {
     "base_uri": "https://localhost:8080/",
     "height": 51
    },
    "colab_type": "code",
    "id": "DZITcu_QWprD",
    "outputId": "33838d16-cb0a-4aae-b4d1-f53fe9eb8e83"
   },
   "outputs": [],
   "source": [
    "import pandas as pd\n",
    "import numpy as np\n",
    "import geopandas as gpd\n",
    "\n",
    "import nltk\n",
    "from nltk.tokenize import word_tokenize\n",
    "from nltk.corpus import stopwords\n",
    "# nltk.download('stopwords')\n",
    "from collections import Counter\n",
    "\n",
    "%matplotlib inline\n",
    "import matplotlib.pyplot as plt\n",
    "import seaborn as sns\n",
    "\n",
    "from sklearn.cluster import KMeans\n",
    "from sklearn.preprocessing import StandardScaler\n",
    "\n",
    "import pickle"
   ]
  },
  {
   "cell_type": "code",
   "execution_count": 2,
   "metadata": {
    "colab": {
     "base_uri": "https://localhost:8080/",
     "height": 71
    },
    "colab_type": "code",
    "id": "TvwRSGemW6V1",
    "outputId": "04196e2c-47a3-4c5a-bdce-61b4afd6dede"
   },
   "outputs": [
    {
     "name": "stderr",
     "output_type": "stream",
     "text": [
      "/usr/local/lib/python3.7/site-packages/IPython/core/interactiveshell.py:3058: DtypeWarning: Columns (61,62,94,95) have mixed types. Specify dtype option on import or set low_memory=False.\n",
      "  interactivity=interactivity, compiler=compiler, result=result)\n"
     ]
    }
   ],
   "source": [
    "df = pd.read_csv('data/airbnb.csv.zip')"
   ]
  },
  {
   "cell_type": "code",
   "execution_count": 3,
   "metadata": {
    "colab": {
     "base_uri": "https://localhost:8080/",
     "height": 34
    },
    "colab_type": "code",
    "id": "6sxFeeGnXL0Y",
    "outputId": "33030722-aae1-4710-dce4-a057f63e550f"
   },
   "outputs": [
    {
     "data": {
      "text/plain": [
       "(48377, 106)"
      ]
     },
     "execution_count": 3,
     "metadata": {},
     "output_type": "execute_result"
    }
   ],
   "source": [
    "df.shape"
   ]
  },
  {
   "cell_type": "code",
   "execution_count": 4,
   "metadata": {
    "colab": {
     "base_uri": "https://localhost:8080/",
     "height": 85
    },
    "colab_type": "code",
    "id": "BnL4xOSpXUwh",
    "outputId": "5d769750-50ff-46de-a04a-4b868155a898"
   },
   "outputs": [
    {
     "data": {
      "text/plain": [
       "id                            0\n",
       "neighborhood_overview     16946\n",
       "neighbourhood_cleansed        0\n",
       "dtype: int64"
      ]
     },
     "execution_count": 4,
     "metadata": {},
     "output_type": "execute_result"
    }
   ],
   "source": [
    "df[['id','neighborhood_overview','neighbourhood_cleansed']].isnull().sum()"
   ]
  },
  {
   "cell_type": "code",
   "execution_count": 5,
   "metadata": {
    "scrolled": false
   },
   "outputs": [
    {
     "name": "stdout",
     "output_type": "stream",
     "text": [
      "['id', 'listing_url', 'scrape_id', 'last_scraped', 'name', 'summary', 'space', 'description', 'experiences_offered', 'neighborhood_overview', 'notes', 'transit', 'access', 'interaction', 'house_rules', 'thumbnail_url', 'medium_url', 'picture_url', 'xl_picture_url', 'host_id', 'host_url', 'host_name', 'host_since', 'host_location', 'host_about', 'host_response_time', 'host_response_rate', 'host_acceptance_rate', 'host_is_superhost', 'host_thumbnail_url', 'host_picture_url', 'host_neighbourhood', 'host_listings_count', 'host_total_listings_count', 'host_verifications', 'host_has_profile_pic', 'host_identity_verified', 'street', 'neighbourhood', 'neighbourhood_cleansed', 'neighbourhood_group_cleansed', 'city', 'state', 'zipcode', 'market', 'smart_location', 'country_code', 'country', 'latitude', 'longitude', 'is_location_exact', 'property_type', 'room_type', 'accommodates', 'bathrooms', 'bedrooms', 'beds', 'bed_type', 'amenities', 'square_feet', 'price', 'weekly_price', 'monthly_price', 'security_deposit', 'cleaning_fee', 'guests_included', 'extra_people', 'minimum_nights', 'maximum_nights', 'minimum_minimum_nights', 'maximum_minimum_nights', 'minimum_maximum_nights', 'maximum_maximum_nights', 'minimum_nights_avg_ntm', 'maximum_nights_avg_ntm', 'calendar_updated', 'has_availability', 'availability_30', 'availability_60', 'availability_90', 'availability_365', 'calendar_last_scraped', 'number_of_reviews', 'number_of_reviews_ltm', 'first_review', 'last_review', 'review_scores_rating', 'review_scores_accuracy', 'review_scores_cleanliness', 'review_scores_checkin', 'review_scores_communication', 'review_scores_location', 'review_scores_value', 'requires_license', 'license', 'jurisdiction_names', 'instant_bookable', 'is_business_travel_ready', 'cancellation_policy', 'require_guest_profile_picture', 'require_guest_phone_verification', 'calculated_host_listings_count', 'calculated_host_listings_count_entire_homes', 'calculated_host_listings_count_private_rooms', 'calculated_host_listings_count_shared_rooms', 'reviews_per_month']\n"
     ]
    }
   ],
   "source": [
    "print(list(df.columns))"
   ]
  },
  {
   "cell_type": "markdown",
   "metadata": {},
   "source": [
    "# Remap Neighborhoods to Unique IDs"
   ]
  },
  {
   "cell_type": "code",
   "execution_count": 6,
   "metadata": {},
   "outputs": [],
   "source": [
    "neighborhood_map = {\n",
    "'Allerton': 1,\n",
    "'Pelham Gardens': 1,\n",
    "'Arden Heights': 2,\n",
    "'Astoria': 3,\n",
    "'Bath Beach': 4,\n",
    "'Battery Park City': 5,\n",
    "'Financial District': 5,\n",
    "'Bay Terrace': 6,\n",
    "'Bayside': 7,\n",
    "'Bayswater': 8,\n",
    "'Far Rockaway': 8,\n",
    "'Bedford-Stuyvesant': 9,\n",
    "'Bellerose': 10,\n",
    "'Belmont': 11,\n",
    "'Bensonhurst': 12,\n",
    "'Borough Park': 13,\n",
    "'Breezy Point': 14,\n",
    "'Neponsit': 14,\n",
    "'Belle Harbor': 14,\n",
    "'Briarwood': 15,\n",
    "'Jamaica Hills': 15,\n",
    "'Brighton Beach': 16,\n",
    "'Brooklyn Heights': 17,\n",
    "'Cobble Hill': 17,\n",
    "'Brownsville': 18,\n",
    "'Bushwick': 19,\n",
    "'Cambria Heights': 20,\n",
    "'Canarsie': 21,\n",
    "'Castle Hills': 22,\n",
    "'Clason Point': 22,\n",
    "'Castleton Corners': 23,\n",
    "'Westerleigh': 23,\n",
    "'Charleston': 24,\n",
    "'Pleasant Plains': 24,\n",
    "'Tottenville': 24,\n",
    "'Chelsea': 25,\n",
    "'Flatiron District': 25,\n",
    "'Chelsea, Staten Island': 26,\n",
    "'Bloomfield': 26,\n",
    "\"Bull's Head\": 26,\n",
    "'Willowbrook': 26,\n",
    "'Emerson Hill': 26,\n",
    "'Chinatown': 27,\n",
    "'Two Bridges': 27,\n",
    "'City Island': 28,\n",
    "'Claremont Village': 29,\n",
    "'Clinton Hill': 30,\n",
    "'Co-op City': 31,\n",
    "'College Point': 32,\n",
    "'Concord': 33,\n",
    "'Arrochar': 33,\n",
    "'Fort Wadsworth': 33,\n",
    "'Concourse': 34,\n",
    "'Concourse Village': 35,\n",
    "'Corona': 36,\n",
    "'Crown Heights': 37,\n",
    "'Cypress Hills': 38,\n",
    "'Ditmars Steinway': 39,\n",
    "'Dongan Hills': 40,\n",
    "'South Beach': 40,\n",
    "'Douglaston': 41,\n",
    "'Little Neck': 41,\n",
    "'DUMBO': 42,\n",
    "'Vinegar Hills': 42,\n",
    "'Downtown Brooklyn': 42,\n",
    "'Boerum Hill': 42,\n",
    "'Dyker Heights': 43,\n",
    "'East Elmhurst': 44,\n",
    "'East Flatbush': 45,\n",
    "'East Harlem': 46,\n",
    "'East Morrisania': 47,\n",
    "'East New York': 48,\n",
    "'East Village': 49,\n",
    "'Eastchester': 50,\n",
    "'Baychester': 50,\n",
    "'Edenwald': 50,\n",
    "'Elmhurst': 51,\n",
    "'Eltingville': 52,\n",
    "'Great Kills': 52,\n",
    "'Bay Terrace, Staten Island': 52,\n",
    "'Flatbush': 53,\n",
    "'Flatlands': 54,\n",
    "'Flushing': 55,\n",
    "'Fordham': 56,\n",
    "'Forest Hills': 57,\n",
    "'Fort Greene': 58,\n",
    "'Fort Hamilton': 59,\n",
    "'Bay Ridge': 59,\n",
    "'Fresh Meadows': 60,\n",
    "'Glen Oaks': 61,\n",
    "'Glendale': 62,\n",
    "'Gowanus': 63,\n",
    "'Park Slope': 63,\n",
    "'South Slope': 63,\n",
    "'Gramercy': 64,\n",
    "'Gravesend': 65,\n",
    "'Greenpoint': 66,\n",
    "'Grymes Hills': 67,\n",
    "'Tompkinsville': 67,\n",
    "'Harlem': 68,\n",
    "\"Hell's Kitchen\": 69,\n",
    "'Highbridge': 70,\n",
    "'Mount Eden': 70,\n",
    "'Hollis': 71,\n",
    "'Hollis Hills': 72,\n",
    "'Howard Beach': 73,\n",
    "'Howland Hook': 74,\n",
    "'Port Ivory': 74,\n",
    "'Mariners Harbor': 74,\n",
    "'Graniteville': 74,\n",
    "'Hunts Point': 75,\n",
    "'Jackson Heights': 76,\n",
    "'Jamaica': 77,\n",
    "'Jamaica Estates': 78,\n",
    "'Holliswood': 78,\n",
    "'Kensington': 79,\n",
    "'Kew Gardens': 80,\n",
    "'Kew Gardens Hills': 81,\n",
    "'Kingsbridge': 82,\n",
    "'Spuyten Duyvil': 82,\n",
    "'Kips Bay': 83,\n",
    "'Murray Hill': 83,\n",
    "'Laurelton': 84,\n",
    "'Long Island City': 85,\n",
    "'Longwood': 86,\n",
    "'Lower East Side': 87,\n",
    "'Alphabet City': 87,\n",
    "'Manhattan Beach': 88,\n",
    "'Sheepshead Bay': 88,\n",
    "'Gerritsen Beach': 88,\n",
    "'Marble Hill': 89,\n",
    "'Inwood': 89,\n",
    "'Melrose': 90,\n",
    "'Middle Village': 91,\n",
    "'Midtown': 92,\n",
    "'Theater District': 92,\n",
    "'Midwood': 93,\n",
    "'Mill Basin': 94,\n",
    "'Bergen Beach': 94,\n",
    "'Morningside Heights': 95,\n",
    "'Morrisania': 96,\n",
    "'Mott Haven': 97,\n",
    "'Port Morris': 97,\n",
    "'Mount Hope': 98,\n",
    "'Navy Yard': 99,\n",
    "'New Dorp': 100,\n",
    "'New Dorp Beach': 100,\n",
    "'Grant City': 100,\n",
    "'Midland Beach': 100,\n",
    "'New Springville': 101,\n",
    "'Lighthouse Hill': 101,\n",
    "'Todt Hill': 101,\n",
    "'North Riverdale': 102,\n",
    "'Fieldston': 102,\n",
    "'Riverdale': 102,\n",
    "'Norwood': 103,\n",
    "'Ozone Park': 104,\n",
    "'Parkchester': 105,\n",
    "'Pelham Bay': 106,\n",
    "'Van Nest': 106,\n",
    "'Bronxdale': 106,\n",
    "'Morris Park': 106,\n",
    "'Port Richmond': 107,\n",
    "\"Prince's Bay\": 107,\n",
    "'Huguenot': 108,\n",
    "'Prospect Heights': 109,\n",
    "'Prospect-Lefferts Gardens': 110,\n",
    "'Queens Village': 111,\n",
    "'Randall Manor': 112,\n",
    "'New Brighton': 112,\n",
    "'St. George': 112,\n",
    "'Red Hook': 113,\n",
    "'Columbia St': 113,\n",
    "'Carroll Gardens': 113,\n",
    "'Rego Park': 114,\n",
    "'Richmond Hill': 115,\n",
    "'Richmondtown': 116,\n",
    "'Oakwood': 116,\n",
    "'Ridgewood': 117,\n",
    "'Rockaway Beach': 118,\n",
    "'Arverne': 118,\n",
    "'Edgemere': 118,\n",
    "'Rosedale': 119,\n",
    "'Rossville': 120,\n",
    "'Woodrow': 120,\n",
    "'Sea Gate': 121,\n",
    "'Coney Island': 121,\n",
    "'Soundview': 122,\n",
    "'South Ozone Park': 123,\n",
    "'Springfield Gardens': 124,\n",
    "'St. Albans': 125,\n",
    "'Stapleton': 126,\n",
    "'Clifton': 126,\n",
    "'Rosebank': 126,\n",
    "'Shore Acres': 126,\n",
    "'Stuyvesant Town': 127,\n",
    "'Sunnyside': 128,\n",
    "'Maspeth': 128,\n",
    "'Sunset Park': 129,\n",
    "'Throgs Neck': 130,\n",
    "'Schuylerville': 130,\n",
    "'Country Club': 130,\n",
    "'Tremont': 131,\n",
    "'West Farms': 131,\n",
    "'Tribeca': 132,\n",
    "'Civic Center': 132,\n",
    "'Soho': 132,\n",
    "'Little Italy': 132,\n",
    "'Nolita': 132,\n",
    "'Unionport': 133,\n",
    "'University Heights': 134,\n",
    "'Morris Heights': 134,\n",
    "'Upper East Side': 135,\n",
    "'Roosevelt Island': 135,\n",
    "'Upper West Side': 136,\n",
    "'Wakefield': 137,\n",
    "'Woodlawn': 137,\n",
    "'Washington Heights': 138,\n",
    "'West Brighton': 139,\n",
    "'Silver Lake': 139,\n",
    "'West Village': 140,\n",
    "'Greenwich Village': 140,\n",
    "'Noho': 140,\n",
    "'Westchester Square': 141,\n",
    "'Whitestone': 142,\n",
    "'Williamsbridge': 143,\n",
    "'Olinville': 143,\n",
    "'Williamsburg': 144,\n",
    "'Windsor Terrace': 145,\n",
    "'Woodhaven': 146,\n",
    "'Woodside': 147\n",
    "}"
   ]
  },
  {
   "cell_type": "code",
   "execution_count": 7,
   "metadata": {},
   "outputs": [
    {
     "data": {
      "text/plain": [
       "neighborhood_id\n",
       "1.0        77\n",
       "2.0         5\n",
       "3.0       919\n",
       "4.0        27\n",
       "5.0       832\n",
       "6.0         6\n",
       "7.0        41\n",
       "8.0        51\n",
       "9.0      3785\n",
       "10.0       11\n",
       "11.0       27\n",
       "12.0       80\n",
       "13.0      132\n",
       "14.0       14\n",
       "15.0       60\n",
       "16.0       80\n",
       "17.0      241\n",
       "18.0       65\n",
       "19.0     2411\n",
       "20.0       30\n",
       "21.0      150\n",
       "22.0       20\n",
       "23.0        7\n",
       "24.0        8\n",
       "25.0     1162\n",
       "26.0        8\n",
       "27.0      433\n",
       "28.0       15\n",
       "29.0       29\n",
       "30.0      561\n",
       "         ... \n",
       "118.0     169\n",
       "119.0      63\n",
       "120.0       2\n",
       "121.0      23\n",
       "122.0      16\n",
       "123.0      40\n",
       "124.0      92\n",
       "125.0      72\n",
       "126.0      61\n",
       "127.0      36\n",
       "128.0     490\n",
       "129.0     407\n",
       "130.0      40\n",
       "131.0      13\n",
       "132.0     601\n",
       "133.0      11\n",
       "134.0      40\n",
       "135.0    1830\n",
       "136.0    1903\n",
       "137.0      63\n",
       "138.0     928\n",
       "139.0      22\n",
       "140.0    1122\n",
       "141.0      10\n",
       "142.0      10\n",
       "143.0      47\n",
       "144.0    3815\n",
       "145.0     151\n",
       "146.0      93\n",
       "147.0     246\n",
       "Name: id, Length: 145, dtype: int64"
      ]
     },
     "execution_count": 7,
     "metadata": {},
     "output_type": "execute_result"
    }
   ],
   "source": [
    "df['neighborhood_id'] = df['neighbourhood_cleansed'].map(neighborhood_map)\n",
    "df.groupby('neighborhood_id').count()['id']"
   ]
  },
  {
   "cell_type": "markdown",
   "metadata": {},
   "source": [
    "# Pull Quantitative Features"
   ]
  },
  {
   "cell_type": "code",
   "execution_count": 8,
   "metadata": {
    "scrolled": true
   },
   "outputs": [
    {
     "name": "stderr",
     "output_type": "stream",
     "text": [
      "/usr/local/lib/python3.7/site-packages/ipykernel_launcher.py:2: SettingWithCopyWarning: \n",
      "A value is trying to be set on a copy of a slice from a DataFrame.\n",
      "Try using .loc[row_indexer,col_indexer] = value instead\n",
      "\n",
      "See the caveats in the documentation: http://pandas.pydata.org/pandas-docs/stable/indexing.html#indexing-view-versus-copy\n",
      "  \n",
      "/usr/local/lib/python3.7/site-packages/pandas/core/frame.py:3697: SettingWithCopyWarning: \n",
      "A value is trying to be set on a copy of a slice from a DataFrame\n",
      "\n",
      "See the caveats in the documentation: http://pandas.pydata.org/pandas-docs/stable/indexing.html#indexing-view-versus-copy\n",
      "  errors=errors)\n"
     ]
    },
    {
     "data": {
      "text/html": [
       "<div>\n",
       "<style scoped>\n",
       "    .dataframe tbody tr th:only-of-type {\n",
       "        vertical-align: middle;\n",
       "    }\n",
       "\n",
       "    .dataframe tbody tr th {\n",
       "        vertical-align: top;\n",
       "    }\n",
       "\n",
       "    .dataframe thead th {\n",
       "        text-align: right;\n",
       "    }\n",
       "</style>\n",
       "<table border=\"1\" class=\"dataframe\">\n",
       "  <thead>\n",
       "    <tr style=\"text-align: right;\">\n",
       "      <th></th>\n",
       "      <th>neighborhood_id</th>\n",
       "      <th>neighborhood</th>\n",
       "      <th>num_listings</th>\n",
       "      <th>price_norm</th>\n",
       "    </tr>\n",
       "  </thead>\n",
       "  <tbody>\n",
       "    <tr>\n",
       "      <th>0</th>\n",
       "      <td>1.0</td>\n",
       "      <td>Allerton</td>\n",
       "      <td>77</td>\n",
       "      <td>31.006370</td>\n",
       "    </tr>\n",
       "    <tr>\n",
       "      <th>1</th>\n",
       "      <td>2.0</td>\n",
       "      <td>Arden Heights</td>\n",
       "      <td>5</td>\n",
       "      <td>28.170000</td>\n",
       "    </tr>\n",
       "    <tr>\n",
       "      <th>2</th>\n",
       "      <td>3.0</td>\n",
       "      <td>Astoria</td>\n",
       "      <td>919</td>\n",
       "      <td>59.324403</td>\n",
       "    </tr>\n",
       "    <tr>\n",
       "      <th>3</th>\n",
       "      <td>4.0</td>\n",
       "      <td>Bath Beach</td>\n",
       "      <td>27</td>\n",
       "      <td>40.018519</td>\n",
       "    </tr>\n",
       "    <tr>\n",
       "      <th>4</th>\n",
       "      <td>5.0</td>\n",
       "      <td>Financial District</td>\n",
       "      <td>832</td>\n",
       "      <td>84.430094</td>\n",
       "    </tr>\n",
       "  </tbody>\n",
       "</table>\n",
       "</div>"
      ],
      "text/plain": [
       "   neighborhood_id        neighborhood  num_listings  price_norm\n",
       "0              1.0            Allerton            77   31.006370\n",
       "1              2.0       Arden Heights             5   28.170000\n",
       "2              3.0             Astoria           919   59.324403\n",
       "3              4.0          Bath Beach            27   40.018519\n",
       "4              5.0  Financial District           832   84.430094"
      ]
     },
     "execution_count": 8,
     "metadata": {},
     "output_type": "execute_result"
    }
   ],
   "source": [
    "df2 = df[['id','neighborhood_id','neighbourhood_cleansed','accommodates','price']]\n",
    "df2['price_norm'] = df2.price.str.replace('[\\$\\,\\.]', '').astype(int)/100/df2['accommodates']\n",
    "df2.drop(['accommodates','price'],axis=1,inplace=True)\n",
    "neighborhood_quant = df2.groupby('neighborhood_id').agg({'neighbourhood_cleansed':'first','id':'count','price_norm':'mean'}).reset_index()\n",
    "neighborhood_quant.sort_values(by='price_norm',ascending=False)\n",
    "neighborhood_quant.columns=['neighborhood_id','neighborhood','num_listings','price_norm']\n",
    "neighborhood_quant.head()"
   ]
  },
  {
   "cell_type": "markdown",
   "metadata": {},
   "source": [
    "# Download Words (for tf-idf Vectorizer)"
   ]
  },
  {
   "cell_type": "code",
   "execution_count": 9,
   "metadata": {
    "scrolled": false
   },
   "outputs": [],
   "source": [
    "words_df = pd.DataFrame(columns=['neighborhood_id','descriptions'])\n",
    "for neighborhood_id in range(1,148):\n",
    "    descs = df[df['neighborhood_id']== neighborhood_id].dropna(subset=['neighborhood_overview']).neighborhood_overview.str.cat(sep=' ')\n",
    "    words_df = words_df.append({'neighborhood_id': neighborhood_id, \n",
    "                               'descriptions': descs}, ignore_index=True)\n",
    "words_df.to_csv('data/airbnb_words.csv',index=False)"
   ]
  },
  {
   "cell_type": "markdown",
   "metadata": {},
   "source": [
    "# Generate Stopwords"
   ]
  },
  {
   "cell_type": "code",
   "execution_count": 10,
   "metadata": {
    "colab": {
     "base_uri": "https://localhost:8080/",
     "height": 54
    },
    "colab_type": "code",
    "id": "46tjRnUwROnT",
    "outputId": "a4d5c274-23c0-485a-d455-7e890690b5e3"
   },
   "outputs": [
    {
     "name": "stdout",
     "output_type": "stream",
     "text": [
      "['harlem', 'clinton', 'hill', 'east', 'harlem', 'murray', 'hill', 'bedford-stuyvesant', \"hell's\", 'kitchen', 'upper', 'west', 'side', 'east', 'village', 'chinatown', 'south', 'slope', 'west', 'village', 'williamsburg', 'fort', 'greene', 'chelsea', 'crown', 'heights', 'park', 'slope', 'windsor', 'terrace', 'inwood', 'greenpoint', 'bushwick', 'flatbush', 'lower', 'east', 'side', 'prospect-lefferts', 'gardens', 'long', 'island', 'city', 'kips', 'bay', 'soho', 'upper', 'east', 'side', 'red', 'hook', 'prospect', 'heights', 'washington', 'heights', 'woodside', 'brooklyn', 'heights', 'carroll', 'gardens', 'gowanus', 'flatlands', 'cobble', 'hill', 'flushing', 'boerum', 'hill', 'sunnyside', 'dumbo', 'st.', 'george', 'highbridge', 'financial', 'district', 'noho', 'ridgewood', 'morningside', 'heights', 'jamaica', 'middle', 'village', 'ditmars', 'steinway', 'flatiron', 'district', 'roosevelt', 'island', 'midtown', 'little', 'italy', 'tompkinsville', 'gramercy', 'astoria', 'kensington', 'clason', 'point', 'eastchester', 'kingsbridge', 'two', 'bridges', 'queens', 'village', 'rockaway', 'beach', 'forest', 'hills', 'east', 'flatbush', 'nolita', 'greenwich', 'village', 'woodlawn', 'university', 'heights', 'gravesend', 'allerton', 'east', 'new', 'york', 'theater', 'district', 'concourse', 'village', 'sheepshead', 'bay', 'fort', 'hamilton', 'bensonhurst', 'tribeca', 'shore', 'acres', 'sunset', 'park', 'concourse', 'elmhurst', 'brighton', 'beach', 'jackson', 'heights', 'cypress', 'hills', 'st.', 'albans', 'arrochar', 'rego', 'park', 'wakefield', 'clifton', 'bay', 'ridge', 'maspeth', 'graniteville', 'spuyten', 'duyvil', 'stapleton', 'briarwood', 'ozone', 'park', 'columbia', 'st', 'morris', 'heights', 'vinegar', 'hill', 'mott', 'haven', 'longwood', 'battery', 'park', 'city', 'civic', 'center', 'bayside', 'east', 'elmhurst', 'new', 'springville', 'arverne', 'cambria', 'heights', 'tottenville', 'canarsie', 'mariners', 'harbor', 'concord', 'borough', 'park', 'downtown', 'brooklyn', 'fieldston', 'kew', 'gardens', 'midwood', 'college', 'point', 'mount', 'eden', 'city', 'island', 'glendale', 'richmond', 'hill', 'port', 'morris', 'williamsbridge', 'soundview', 'woodhaven', 'woodrow', 'co-op', 'city', 'stuyvesant', 'town', 'parkchester', 'north', 'riverdale', 'dyker', 'heights', 'bronxdale', 'sea', 'gate', 'riverdale', 'bay', 'terrace', 'norwood', 'claremont', 'village', 'whitestone', 'fordham', 'navy', 'yard', 'brownsville', 'eltingville', 'mount', 'hope', 'fresh', 'meadows', 'jamaica', 'estates', 'lighthouse', 'hill', 'unionport', 'springfield', 'gardens', 'howard', 'beach', 'belle', 'harbor', 'kew', 'gardens', 'hills', 'van', 'nest', 'bellerose', 'morris', 'park', 'west', 'brighton', 'far', 'rockaway', 'south', 'ozone', 'park', 'tremont', 'corona', 'bayswater', 'manhattan', 'beach', 'marble', 'hill', 'dongan', 'hills', 'castleton', 'corners', 'east', 'morrisania', 'hunts', 'point', 'neponsit', 'pelham', 'bay', 'randall', 'manor', 'throgs', 'neck', 'todt', 'hill', 'great', 'kills', 'silver', 'lake', 'morrisania', 'laurelton', 'grymes', 'hill', 'holliswood', 'pelham', 'gardens', 'belmont', 'rosedale', 'edgemere', 'new', 'brighton', 'midland', 'beach', 'baychester', 'melrose', 'bergen', 'beach', 'richmondtown', 'howland', 'hook', 'schuylerville', 'coney', 'island', 'new', 'dorp', 'beach', \"prince's\", 'bay', 'south', 'beach', 'bath', 'beach', 'jamaica', 'hills', 'oakwood', 'castle', 'hill', 'hollis', 'douglaston', 'huguenot', 'olinville', 'edenwald', 'grant', 'city', 'port', 'richmond', 'emerson', 'hill', 'westerleigh', 'bay', 'terrace,', 'staten', 'island', 'little', 'neck', 'fort', 'wadsworth', 'westchester', 'square', 'rosebank', 'mill', 'basin', 'arden', 'heights', \"bull's\", 'head', 'new', 'dorp', 'rossville', 'breezy', 'point', 'willowbrook', 'west', 'farms', 'charleston', 'country', 'club', 'gerritsen', 'beach']\n"
     ]
    }
   ],
   "source": [
    "neighborhoods = df.neighbourhood_cleansed.unique()\n",
    "neighborhood_words = [words for segments in neighborhoods for words in str(segments).lower().split()]\n",
    "print(neighborhood_words)"
   ]
  },
  {
   "cell_type": "code",
   "execution_count": 11,
   "metadata": {
    "colab": {
     "base_uri": "https://localhost:8080/",
     "height": 54
    },
    "colab_type": "code",
    "id": "lhdA6HiCG3cb",
    "outputId": "d9d18ee4-d87c-426c-b577-efd63e315d0e"
   },
   "outputs": [],
   "source": [
    "sw = stopwords.words(\"english\")\n",
    "sw.extend(['rockaway','empire','state','new','york','city','nyc','neighborhoods','neighborhood','one',\n",
    "           'walk','away','blocks','block','area','apartment','around','minutes','public','many',\n",
    "           'street','streets','right','best','distance','located','also','building','close','within','minute',\n",
    "           'avenue','bed','near','fidi','please','hidden','number','could','go','lot','set','upon','departure',\n",
    "           'stuy', 'mi', 'hell','etc', 'grand', 'central', 'take', 'ave','ditmas','attractions',\n",
    "           'plenty','th', 'location', 'st', 'airbnb', 'far', 'min', 'mins', 'everything', 'get','like','even',\n",
    "           'along','dozen','would','return','hudson','pratt','yankees','yankee','several','atmosphere','https','www','com',\n",
    "           'lots', 'nearby', 'find', 'it’s', 'place', 'lined','predominantly','easy','access',\"you're\",'two',\n",
    "           'ny', 'high', 'miles', 'line','highlights','tompkins','highline','rockefeller','united','nations','bedford',\n",
    "           'manhattan','brooklyn','queens','bronx','staten','island','times','broadway','blvd','hell’s','madison',\n",
    "           'whole','foods','trader','joes','jfk','newark','intl','across','including','need','day','full','stop',\n",
    "           'much','feel','tons','union','next','see','part','want','hour','less','major','top','website','still','offer',\n",
    "           'offers','areas','really','years','spot','make','way','coming','check','things','always','end',\n",
    "           'nd','lincoln','starbucks','back','surrounded','main','yet','excellent','quite','come'\n",
    "           'a','b','c','d','e','f','g','l','m','n','q','r','s','w','1','2','3','4','5','6','7'])\n",
    "sw.extend(neighborhood_words)"
   ]
  },
  {
   "cell_type": "code",
   "execution_count": 12,
   "metadata": {},
   "outputs": [],
   "source": [
    "with open(\"stopwords.txt\", \"wb\") as fp: \n",
    "      pickle.dump(sw, fp)"
   ]
  },
  {
   "cell_type": "markdown",
   "metadata": {},
   "source": [
    "# Generate Neighborhood Datasets\n",
    "Features are top 100 words among all neighborhoods"
   ]
  },
  {
   "cell_type": "code",
   "execution_count": 13,
   "metadata": {
    "colab": {},
    "colab_type": "code",
    "id": "RKL8mVpMFtHg"
   },
   "outputs": [],
   "source": [
    "def clean(text):\n",
    "  for c in \",.!-/:;()*&[]_~`+=\\|'?<>^%$#@•–0123456789\":\n",
    "    text = text.replace(c, \" \")\n",
    "  return text.lower()"
   ]
  },
  {
   "cell_type": "code",
   "execution_count": 14,
   "metadata": {},
   "outputs": [],
   "source": [
    "all_words = clean(df.neighborhood_overview.str.cat(sep=' '))\n",
    "all_top = pd.DataFrame(Counter(all_words.split()).most_common(), columns=['word','freq'])\n",
    "all_top = all_top[~all_top.word.isin(sw)]"
   ]
  },
  {
   "cell_type": "code",
   "execution_count": 15,
   "metadata": {},
   "outputs": [
    {
     "name": "stdout",
     "output_type": "stream",
     "text": [
      "['restaurants', 'bars', 'shops', 'walking', 'food', 'subway', 'coffee', 'train', 'stores', 'shopping', 'museum', 'safe', 'quiet', 'beautiful', 'cafes', 'well', 'grocery', 'home', 'art', 'corner', 'music', 'local', 'amazing', 'bar', 'restaurant', 'store', 'river', 'parks', 'station', 'short', 'historic', 'ride', 'live', 'people', 'night', 'world', 'diverse', 'friendly', 'heart', 'famous', 'places', 'market', 'house', 'community', 'love', 'residential', 'enjoy', 'steps', 'known', 'shop', 'bus', 'every', 'garden', 'vibrant', 'time', 'nightlife', 'bridge', 'favorite', 'transportation', 'galleries', 'good', 'nice', 'convenient', 'hip', 'pizza', 'trendy', 'tree', 'options', 'culture', 'fun', 'italian', 'trains', 'cafe', 'supermarkets', 'supermarket', 'dining', 'cool', 'family', 'spots', 'young', 'old', 'museums', 'boutiques', 'perfect', 'super', 'views', 'open', 'experience', 'stay', 'unique', 'clubs', 'history', 'life', 'popular', 'cultural', 'small', 'door', 'families', 'lines', 'brownstones', 'american', 'wine', 'markets', 'venues', 'stops', 'botanical', 'artists', 'bike', 'wonderful', 'deli', 'scene', 'green', 'variety', 'filled', 'lively', 'different', 'explore', 'buildings', 'delicious', 'visit', 'laundromat', 'mall', 'airport', 'chinese', 'free', 'mix', 'library', 'quick', 'laundry', 'eat', 'convenience', 'movie', 'mexican', 'living', 'looking', 'residents', 'pharmacy', 'available', 'late', 'theatre', 'authentic', 'large', 'riverside', 'parking', 'space', 'charming', 'lovely', 'hall', 'waterfront', 'theaters', 'vibe', 'outside', 'caribbean', 'cuisine', 'come', 'brunch', 'eateries', 'view', 'architecture', 'easily', 'groceries', 'three', 'delis', 'hotel', 'couple', 'class', 'stroll', 'accessible', 'bustling', 'fantastic', 'neighbors', 'conveniently', 'summer', 'barclays', 'metropolitan', 'express', 'plaza', 'big', 'name', 'us', 'mile', 'include', 'outdoor', 'beer', 'proximity', 'buses', 'entertainment', 'front', 'banks', 'drink', 'vintage', 'iconic', 'indian', 'professionals', 'historical', 'real', 'thai', 'awesome', 'columbus', 'jazz', 'happy', 'zoo', 'called', 'anywhere', 'bakery', 'diversity', 'natural', 'five', 'fast', 'guests', 'cute', 'circle', 'peaceful', 'organic']\n",
      "214\n"
     ]
    }
   ],
   "source": [
    "threshold = len(df.neighborhood_overview)*0.01\n",
    "\n",
    "ny_top_words = all_top[all_top.freq > threshold].word.tolist()\n",
    "print(ny_top_words)\n",
    "print(len(ny_top_words))"
   ]
  },
  {
   "cell_type": "code",
   "execution_count": 16,
   "metadata": {
    "scrolled": true
   },
   "outputs": [
    {
     "name": "stdout",
     "output_type": "stream",
     "text": [
      "1 ['zoo', 'quiet', 'restaurants', 'safe', 'parks', 'mall', 'bus', 'walking', 'botanical', 'plaza']\n"
     ]
    },
    {
     "name": "stderr",
     "output_type": "stream",
     "text": [
      "/usr/local/lib/python3.7/site-packages/ipykernel_launcher.py:7: SettingWithCopyWarning: \n",
      "A value is trying to be set on a copy of a slice from a DataFrame.\n",
      "Try using .loc[row_indexer,col_indexer] = value instead\n",
      "\n",
      "See the caveats in the documentation: http://pandas.pydata.org/pandas-docs/stable/indexing.html#indexing-view-versus-copy\n",
      "  import sys\n"
     ]
    },
    {
     "name": "stdout",
     "output_type": "stream",
     "text": [
      "2 ['friendly', 'restaurants', 'parks', 'shopping', 'quiet', 'family', 'liberty', 'safest', 'entire', 'beautiful']\n",
      "3 ['restaurants', 'bars', 'food', 'greek', 'museum', 'safe', 'shops', 'stores', 'walking', 'diverse']\n",
      "4 ['restaurants', 'verrazano', 'bridge', 'good', 'water', 'path', 'residential', 'cultures', 'quiet', 'safe']\n",
      "5 ['walkability', 'score', 'bar', 'tavern', 'grocery', 'dead', 'rabbit', 'live', 'grog', 'coffee']\n",
      "6 ['shopping', 'museum', 'totten', 'large', 'book', 'parks', 'sound', 'marina', 'bike', 'boat']\n",
      "7 ['restaurants', 'safe', 'quiet', 'walking', 'bell', 'bank', 'shopping', 'express', 'bars', 'path']\n",
      "8 ['phone', 'boardwalk', 'walking', 'rockaways', 'transportation', 'beaches', 'shopping', 'airport', 'beautiful', 'available']\n",
      "9 ['restaurants', 'bars', 'coffee', 'shops', 'historic', 'cafes', 'walking', 'train', 'brownstones', 'beautiful']\n",
      "10 ['quiet', 'tree', 'restaurants', 'bars', 'parkway', 'family', 'field', 'mile', 'open', 'shops']\n",
      "11 ['botanical', 'garden', 'zoo', 'arthur', 'walking', 'stores', 'food', 'restaurants', 'different', 'shopping']\n",
      "12 ['safe', 'restaurants', 'quiet', 'subway', 'shops', 'transportation', 'train', 'parkway', 'bus', 'food']\n",
      "13 ['train', 'restaurants', 'safe', 'jewish', 'subway', 'ride', 'home', 'chinese', 'asian', 'places']\n",
      "14 ['riis', 'provide', 'bike', 'boardwalk', 'home', 'door', 'recycling', 'garbage', 'bags', 'sink']\n",
      "15 ['house', 'train', 'restaurants', 'quiet', 'nice', 'subway', 'safe', 'hospital', 'walking', 'shopping']\n",
      "16 ['restaurants', 'boardwalk', 'food', 'aquarium', 'russian', 'train', 'walking', 'first', 'ocean', 'european']\n",
      "17 ['bridge', 'restaurants', 'shops', 'bars', 'promenade', 'historic', 'views', 'beautiful', 'walking', 'shopping']\n",
      "18 ['train', 'food', 'stores', 'quiet', 'restaurants', 'subway', 'residential', 'supermarket', 'caribbean', 'eastern']\n",
      "19 ['restaurants', 'bars', 'art', 'shops', 'coffee', 'train', 'food', 'stores', 'galleries', 'walking']\n",
      "20 ['food', 'quiet', 'chinese', 'safe', 'restaurants', 'mall', 'clean', 'shopping', 'bank', 'class']\n",
      "21 ['train', 'quiet', 'mall', 'shopping', 'gateway', 'restaurants', 'pier', 'friendly', 'stores', 'plaza']\n",
      "22 ['ferry', 'bus', 'diverse', 'walking', 'quiet', 'short', 'culturally', 'home', 'stores', 'shopping']\n",
      "23 ['drive', 'airport', 'jersey', 'tree', 'safe', 'restaurants', 'home', 'well', 'quiet', 'closest']\n",
      "24 ['eats', 'restaurants', 'pizza', 'eat', 'italian', 'restaurant', 'nice', 'quiet', 'house', 'family']\n",
      "25 ['restaurants', 'art', 'galleries', 'market', 'bars', 'meatpacking', 'walking', 'station', 'subway', 'shopping']\n",
      "26 ['mall', 'bus', 'places', 'food', 'every', 'parks', 'mile', 'drive', 'car', 'barnes']\n",
      "27 ['restaurants', 'bars', 'galleries', 'art', 'walking', 'bridge', 'shopping', 'shops', 'food', 'coffee']\n",
      "28 ['restaurants', 'small', 'seafood', 'shops', 'orchard', 'bike', 'walking', 'trails', 'largest', 'live']\n",
      "29 ['stadium', 'grocery', 'stores', 'bus', 'botanical', 'garden', 'zoo', 'home', 'lebanon', 'walking']\n",
      "30 ['restaurants', 'bars', 'beautiful', 'walking', 'shops', 'coffee', 'institute', 'market', 'bam', 'historic']\n",
      "31 ['shopping', 'mall', 'plaza', 'residential', 'class', 'diverse', 'nationalities', 'schools', 'churches', 'hospitals']\n",
      "32 ['restaurants', 'de', 'el', 'es', 'spa', 'quiet', 'shopping', 'target', 'tj', 'max']\n",
      "33 ['food', 'bus', 'restaurants', 'quiet', 'busy', 'transport', 'local', 'italian', 'safe', 'chinese']\n",
      "34 ['stadium', 'terminal', 'restaurants', 'grocery', 'corner', 'mall', 'walking', 'local', 'museum', 'target']\n",
      "35 ['stadium', 'restaurants', 'safe', 'train', 'food', 'bars', 'shops', 'shopping', 'transportation', 'movie']\n",
      "36 ['en', 'minutos', 'el', 'home', 'la', 'de', 'es', 'read', 'mall', 'todo']\n",
      "37 ['restaurants', 'museum', 'bars', 'franklin', 'shops', 'botanical', 'coffee', 'caribbean', 'garden', 'walking']\n",
      "38 ['train', 'stores', 'highland', 'restaurants', 'quiet', 'food', 'safe', 'store', 'shops', 'subway']\n",
      "39 ['restaurants', 'bars', 'greek', 'food', 'safe', 'stores', 'walking', 'train', 'amazing', 'italian']\n",
      "40 ['safe', 'beautiful', 'quiet', 'hylan', 'restaurants', 'shopping', 'food', 'transportation', 'us', 'nice']\n",
      "41 ['hospital', 'approximately', 'walking', 'shopping', 'jewish', 'centers', 'transport', 'locations', 'medical', 'drive']\n",
      "42 ['restaurants', 'bridge', 'shops', 'bars', 'smith', 'shopping', 'subway', 'coffee', 'walking', 'bam']\n",
      "43 ['safe', 'chinese', 'shops', 'places', 'since', 'china', 'food', 'subway', 'bus', 'friendly']\n",
      "44 ['food', 'airport', 'bus', 'restaurants', 'ride', 'house', 'safe', 'shopping', 'quiet', 'transportation']\n",
      "45 ['restaurants', 'caribbean', 'food', 'shopping', 'stores', 'kings', 'walking', 'quiet', 'train', 'safe']\n",
      "46 ['restaurants', 'food', 'museum', 'subway', 'safe', 'walking', 'bars', 'train', 'spanish', 'culture']\n",
      "47 ['guide', 'locations', 'look', 'curated', 'guidebook', 'stadium', 'zoo', 'diverse', 'train', 'shopping']\n",
      "48 ['restaurants', 'train', 'mall', 'shopping', 'gateway', 'shops', 'stores', 'well', 'airport', 'family']\n",
      "49 ['restaurants', 'bars', 'shops', 'walking', 'cafes', 'nightlife', 'food', 'coffee', 'night', 'subway']\n",
      "50 ['shopping', 'quiet', 'shops', 'famous', 'diverse', 'malls', 'accessible', 'stores', 'mall', 'zoo']\n",
      "51 ['food', 'restaurants', 'mall', 'asian', 'subway', 'stores', 'station', 'shopping', 'safe', 'price']\n",
      "52 ['safe', 'quiet', 'home', 'nice', 'walking', 'train', 'ferry', 'marina', 'buses', 'enjoy']\n",
      "53 ['restaurants', 'bars', 'shops', 'cortelyou', 'beautiful', 'food', 'victorian', 'stores', 'road', 'walking']\n",
      "54 ['shopping', 'quiet', 'restaurants', 'food', 'plaza', 'kings', 'stores', 'mall', 'walking', 'beautiful']\n",
      "55 ['restaurants', 'quiet', 'train', 'chinese', 'subway', 'shops', 'safe', 'community', 'station', 'korean']\n",
      "56 ['restaurants', 'safe', 'shops', 'cute', 'supermarkets', 'de', 'en', 'beautiful', 'train', 'love']\n",
      "57 ['restaurants', 'subway', 'safe', 'austin', 'quiet', 'shopping', 'stadium', 'shops', 'station', 'stores']\n",
      "58 ['restaurants', 'bars', 'music', 'market', 'bam', 'shops', 'academy', 'flea', 'historic', 'barclays']\n",
      "59 ['restaurants', 'shopping', 'bars', 'safe', 'train', 'parks', 'shops', 'walking', 'subway', 'water']\n",
      "60 ['restaurants', 'shopping', 'safe', 'food', 'residential', 'phone', 'shop', 'house', 'convenient', 'shops']\n",
      "61 []\n",
      "62 ['restaurants', 'safe', 'store', 'walking', 'train', 'well', 'polish', 'supermarkets', 'beautiful', 'good']\n",
      "63 ['restaurants', 'bars', 'shops', 'beautiful', 'walking', 'museum', 'music', 'friendly', 'subway', 'coffee']\n",
      "64 ['restaurants', 'bars', 'walking', 'shopping', 'shops', 'quiet', 'market', 'subway', 'short', 'well']\n",
      "65 ['restaurants', 'safe', 'train', 'food', 'quiet', 'ride', 'walking', 'subway', 'enjoy', 'shop']\n",
      "66 ['restaurants', 'bars', 'shops', 'coffee', 'mccarren', 'polish', 'quiet', 'walking', 'stores', 'parks']\n",
      "67 ['ferry', 'house', 'quiet', 'safe', 'bus', 'walking', 'ride', 'free', 'food', 'historic']\n",
      "68 ['restaurants', 'bars', 'walking', 'subway', 'food', 'apollo', 'historic', 'train', 'coffee', 'safe']\n",
      "69 ['restaurants', 'bars', 'walking', 'subway', 'station', 'circle', 'river', 'columbus', 'heart', 'shopping']\n",
      "70 ['stadium', 'restaurants', 'station', 'train', 'walking', 'stores', 'ride', 'safe', 'field', 'open']\n",
      "71 ['quiet', 'restaurants', 'indian', 'food', 'parking', 'beautiful', 'library', 'car', 'cunningham', 'safe']\n",
      "72 []\n",
      "73 ['airport', 'driving', 'home', 'house', 'parking', 'quiet', 'ride', 'drive', 'mall', 'lga']\n",
      "74 ['love', 'museum', 'bus', 'local', 'parks', 'enjoy', 'movie', 'stores', 'snug', 'cultural']\n",
      "75 ['enjoy', 'vibrant', 'water', 'hunter', 'diverse', 'residential', 'culturally', 'nice', 'safety', 'ten']\n",
      "76 ['restaurants', 'diverse', 'food', 'train', 'people', 'well', 'subway', 'colombian', 'world', 'bars']\n",
      "77 ['airport', 'quiet', 'restaurants', 'safe', 'mall', 'walking', 'stores', 'food', 'shopping', 'green']\n",
      "78 ['restaurants', 'john', 'centers', 'parks', 'walking', 'cunningham', 'houses', 'worship', 'bus', 'mets']\n",
      "79 ['restaurants', 'train', 'safe', 'bars', 'food', 'walking', 'ride', 'quiet', 'shops', 'diverse']\n",
      "80 ['safe', 'restaurants', 'house', 'beautiful', 'bars', 'local', 'supermarkets', 'pizza', 'stores', 'shop']\n",
      "81 ['restaurants', 'quiet', 'home', 'grocery', 'walking', 'pharmacy', 'stadium', 'kosher', 'food', 'famous']\n",
      "82 ['restaurants', 'shopping', 'safe', 'walking', 'night', 'local', 'quiet', 'bars', 'stores', 'bank']\n"
     ]
    },
    {
     "name": "stdout",
     "output_type": "stream",
     "text": [
      "83 ['restaurants', 'walking', 'bars', 'station', 'safe', 'quiet', 'subway', 'residential', 'score', 'walkability']\n",
      "84 ['safe', 'quiet', 'beautiful', 'home', 'bus', 'food', 'mall', 'ride', 'community', 'another']\n",
      "85 ['restaurants', 'bars', 'subway', 'museum', 'safe', 'train', 'food', 'station', 'walking', 'moma']\n",
      "86 ['train', 'shopping', 'food', 'stadium', 'restaurants', 'store', 'ride', 'mexican', 'house', 'chinese']\n",
      "87 ['restaurants', 'bars', 'galleries', 'shops', 'les', 'bridge', 'walking', 'art', 'museum', 'river']\n",
      "88 ['restaurants', 'train', 'safe', 'walking', 'subway', 'stores', 'quiet', 'shopping', 'russian', 'shops']\n",
      "89 ['restaurants', 'cloisters', 'parks', 'tryon', 'river', 'bars', 'museum', 'beautiful', 'train', 'stores']\n",
      "90 ['restaurants', 'documentary', 'couple', 'cheap', 'growing', 'stores', 'bars', 'friendly', 'people', 'time']\n",
      "91 ['beautiful', 'mall', 'restaurants', 'safe', 'quiet', 'walking', 'short', 'food', 'parks', 'house']\n",
      "92 ['restaurants', 'shopping', 'station', 'hall', 'museum', 'walking', 'bars', 'subway', 'carnegie', 'art']\n",
      "93 ['restaurants', 'safe', 'subway', 'quiet', 'train', 'shops', 'shopping', 'stores', 'food', 'район']\n",
      "94 ['quiet', 'transportation', 'walking', 'good', 'mall', 'market', 'shopping', 'residential', 'barclay', 'bridge']\n",
      "95 ['restaurants', 'riverside', 'bars', 'safe', 'shops', 'quiet', 'walking', 'campus', 'subway', 'cathedral']\n",
      "96 ['stadium', 'de', 'crotona', 'est', 'car', 'corner', 'peaceful', 'beautiful', 'subway', 'train']\n",
      "97 ['restaurants', 'guests', 'bar', 'young', 'friendly', 'neighbors', 'travelers', 'train', 'walking', 'bars']\n",
      "98 ['lebanon', 'zoo', 'stadium', 'hospital', 'food', 'health', 'care', 'medical', 'community', 'quality']\n",
      "99 ['bus', 'restaurants', 'walking', 'bridge', 'coffee', 'shops', 'swim', 'parks', 'brownstone', 'residential']\n",
      "100 ['quiet', 'boardwalk', 'restaurants', 'walking', 'store', 'local', 'transportation', 'nice', 'bike', 'bridge']\n",
      "101 ['mall', 'quiet', 'historic', 'ferry', 'restaurants', 'stores', 'nice', 'peaceful', 'adjacent', 'functioning']\n",
      "102 ['restaurants', 'quiet', 'river', 'walking', 'train', 'bus', 'safe', 'cortlandt', 'shopping', 'friendly']\n",
      "103 ['train', 'botanical', 'stores', 'garden', 'zoo', 'bus', 'hospital', 'station', 'restaurants', 'supermarket']\n",
      "104 ['restaurants', 'train', 'walking', 'quiet', 'safe', 'shopping', 'casino', 'italians', 'airport', 'poles']\n",
      "105 ['restaurant', 'local', 'restaurants', 'stores', 'walking', 'botanical', 'zoo', 'neighbourhood', 'proximity', 'safe']\n",
      "106 ['zoo', 'shopping', 'restaurants', 'walking', 'quiet', 'stores', 'botanical', 'residential', 'safe', 'subway']\n",
      "107 ['buses', 'ferry', 'express', 'towards', 'corner', 'grocery', 'stores', 'pizza', 'mall', 'bus']\n",
      "108 ['quiet', 'safe', 'nice']\n",
      "109 ['restaurants', 'museum', 'bars', 'botanical', 'walking', 'garden', 'shops', 'barclays', 'music', 'botanic']\n",
      "110 ['restaurants', 'lefferts', 'museum', 'bars', 'garden', 'shops', 'subway', 'train', 'food', 'coffee']\n",
      "111 ['restaurants', 'walking', 'quiet', 'residential', 'airport', 'safe', 'stores', 'parking', 'casino', 'family']\n",
      "112 ['ferry', 'restaurants', 'house', 'walking', 'free', 'email', 'museum', 'terminal', 'stores', 'historic']\n",
      "113 ['restaurants', 'bars', 'shops', 'bridge', 'coffee', 'italian', 'walking', 'court', 'smith', 'waterfront']\n",
      "114 ['mall', 'restaurants', 'stores', 'shopping', 'safe', 'walking', 'subway', 'quiet', 'century', 'malls']\n",
      "115 ['restaurants', 'walking', 'train', 'bus', 'food', 'safe', 'store', 'airport', 'grocery', 'market']\n",
      "116 ['shopping', 'restaurants', 'local', 'ferry', 'mall', 'quiet', 'tree', 'shop', 'cvs', 'bus']\n",
      "117 ['bars', 'restaurants', 'historic', 'northeast', 'border', 'young', 'night', 'worlds', 'safe', 'visit']\n",
      "118 ['surf', 'restaurants', 'boardwalk', 'train', 'bar', 'walking', 'food', 'shop', 'bars', 'restaurant']\n",
      "119 ['mall', 'quiet', 'green', 'drive', 'local', 'restaurants', 'lirr', 'station', 'safe', 'food']\n",
      "120 ['neighbors', 'fun', 'love', 'sure', 'ask', 'respectful', 'noise', 'night', 'hours', 'early']\n",
      "121 ['amusement', 'boardwalk', 'aquarium', 'nathan', 'famous', 'restaurant', 'amphitheater', 'ford', 'parks', 'summer']\n",
      "122 ['market', 'safe', 'places', 'walking', 'shopping', 'wonderful', 'restaurants', 'shop', 'mcdonalds', 'food']\n",
      "123 ['quiet', 'casino', 'diverse', 'restaurants', 'safe', 'track', 'court', 'field', 'home', 'bus']\n",
      "124 ['bus', 'uber', 'via', 'food', 'airport', 'mall', 'restaurant', 'restaurants', 'green', 'chinese']\n",
      "125 ['restaurants', 'quiet', 'supermarket', 'airport', 'food', 'bank', 'transportation', 'world', 'laundromat', 'addisleigh']\n",
      "126 ['bridge', 'restaurants', 'quiet', 'historic', 'stores', 'beautiful', 'safe', 'parks', 'diverse', 'nice']\n",
      "127 ['bars', 'restaurants', 'walking', 'subway', 'parks', 'cafes', 'clubs', 'train', 'late', 'night']\n",
      "128 ['restaurants', 'food', 'bars', 'safe', 'train', 'quiet', 'stores', 'subway', 'walking', 'diverse']\n",
      "129 ['restaurants', 'food', 'bars', 'chinese', 'beautiful', 'subway', 'greenwood', 'stores', 'safe', 'train']\n",
      "130 ['restaurants', 'family', 'bus', 'quiet', 'safe', 'transportation', 'throggs', 'express', 'bars', 'home']\n",
      "131 ['culture', 'people', 'neighbors', 'experience', 'zoo', 'botanical', 'spacious', 'quiet', 'compared', 'came']\n",
      "132 ['restaurants', 'shopping', 'shops', 'well', 'subway', 'bars', 'walking', 'cafes', 'river', 'home']\n",
      "133 ['de', 'restaurants', 'shopping', 'la', 'food', 'quiet', 'walking', 'cerca', 'bruckner', 'quartier']\n",
      "134 ['residential', 'restaurants', 'quiet', 'laundromat', 'library', 'diverse', 'community', 'cleaner', 'zoo', 'entertainment']\n",
      "135 ['restaurants', 'museum', 'bars', 'subway', 'shopping', 'museums', 'shops', 'stores', 'walking', 'guggenheim']\n",
      "136 ['restaurants', 'museum', 'riverside', 'subway', 'history', 'bars', 'natural', 'walking', 'stores', 'shops']\n",
      "137 ['train', 'shopping', 'zoo', 'friendly', 'safe', 'restaurants', 'station', 'botanical', 'irish', 'quiet']\n",
      "138 ['restaurants', 'river', 'cloisters', 'tryon', 'train', 'food', 'walking', 'bridge', 'beautiful', 'bars']\n",
      "139 ['quiet', 'stores', 'restaurants', 'live', 'banks', 'clove', 'ferry', 'groceries', 'deli\"s', 'short']\n",
      "140 ['restaurants', 'bars', 'shops', 'shopping', 'walking', 'river', 'cafes', 'subway', 'meatpacking', 'heart']\n",
      "141 ['walking', 'restaurants', 'quiet', 'safe', 'diverse', 'variety', 'train', 'parking', 'culturally', 'community']\n",
      "142 ['quiet', 'ride', 'you’re', 'chinese', 'beautiful', 'traffic', 'car', 'house', 'home', 'room']\n",
      "143 ['restaurants', 'zoo', 'friendly', 'walking', 'quiet', 'botanical', 'food', 'train', 'garden', 'stay']\n",
      "144 ['restaurants', 'bars', 'shops', 'coffee', 'music', 'food', 'walking', 'train', 'cafes', 'art']\n",
      "145 ['restaurants', 'quiet', 'bars', 'safe', 'shops', 'walking', 'friendly', 'family', 'subway', 'beautiful']\n",
      "146 ['restaurants', 'train', 'safe', 'stores', 'quiet', 'j', 'transportation', 'different', 'supermarkets', 'convenient']\n",
      "147 ['restaurants', 'bars', 'phone', 'residential', 'stores', 'supermarkets', 'station', 'food', 'train', 'northern']\n"
     ]
    }
   ],
   "source": [
    "nb_maps = {}\n",
    "for neighborhood_id in range(1,148):\n",
    "  words = df[df['neighborhood_id']==neighborhood_id].dropna(subset=['neighborhood_overview'])\n",
    "  words_str = clean(words.neighborhood_overview.str.cat(sep=' '))\n",
    "  words_top = pd.DataFrame(Counter(words_str.split()).most_common(), columns=['word','freq'])\n",
    "  words_cleaned = words_top[~words_top.word.isin(sw)]\n",
    "  words_cleaned['freq_norm'] = words_cleaned.freq/len(words)\n",
    "  print(neighborhood_id,words_cleaned.word[:10].tolist())\n",
    "  nb_maps[neighborhood_id] = words_cleaned"
   ]
  },
  {
   "cell_type": "code",
   "execution_count": 17,
   "metadata": {
    "colab": {},
    "colab_type": "code",
    "id": "p6Bf5zFy_gBL"
   },
   "outputs": [],
   "source": [
    "def get_freq(word):\n",
    "  test = pd.DataFrame(columns=['neighborhood','freq','word'])\n",
    "  for key in nb_maps.keys():\n",
    "    words = nb_maps[key]\n",
    "    if len(words.loc[words['word']==word]['freq_norm'])>0:\n",
    "      test = test.append({'word':word,\n",
    "                          'neighborhood':key,\n",
    "                          'freq':words.loc[words['word']==word]['freq_norm'].item()\n",
    "                         },ignore_index=True)\n",
    "  return test.sort_values(by='freq',ascending=False)"
   ]
  },
  {
   "cell_type": "code",
   "execution_count": 18,
   "metadata": {
    "colab": {},
    "colab_type": "code",
    "id": "zLqXD7Z3H9UD"
   },
   "outputs": [],
   "source": [
    "all_nbs = list(nb_maps.keys())\n",
    "clrs = sns.color_palette('hls', n_colors=len(all_nbs)) \n",
    "colors = {}\n",
    "for i in range(len(all_nbs)):\n",
    "  colors[all_nbs[i]] = clrs[i]"
   ]
  },
  {
   "cell_type": "code",
   "execution_count": 19,
   "metadata": {
    "colab": {
     "base_uri": "https://localhost:8080/",
     "height": 1000
    },
    "colab_type": "code",
    "id": "pKOAM0ahlQs8",
    "outputId": "eb60ad8c-9867-4993-f210-834914ca3965",
    "scrolled": true
   },
   "outputs": [],
   "source": [
    "all_words = pd.DataFrame(columns=['neighborhood','freq','word'])\n",
    "for word in ny_top_words:\n",
    "  freqs = get_freq(word)\n",
    "#   freqs.plot(x='neighborhood',y='freq',title=word,kind='bar',legend=False,\n",
    "#              color=freqs['neighborhood'].apply(lambda x: colors[x]))\n",
    "#   plt.savefig('images/barchart_'+word+'.png',bbox_inches = \"tight\")\n",
    "  all_words = all_words.append(freqs)"
   ]
  },
  {
   "cell_type": "code",
   "execution_count": 20,
   "metadata": {
    "scrolled": true
   },
   "outputs": [
    {
     "data": {
      "text/html": [
       "<div>\n",
       "<style scoped>\n",
       "    .dataframe tbody tr th:only-of-type {\n",
       "        vertical-align: middle;\n",
       "    }\n",
       "\n",
       "    .dataframe tbody tr th {\n",
       "        vertical-align: top;\n",
       "    }\n",
       "\n",
       "    .dataframe thead th {\n",
       "        text-align: right;\n",
       "    }\n",
       "</style>\n",
       "<table border=\"1\" class=\"dataframe\">\n",
       "  <thead>\n",
       "    <tr style=\"text-align: right;\">\n",
       "      <th>word</th>\n",
       "      <th>neighborhood_id</th>\n",
       "      <th>accessible</th>\n",
       "      <th>airport</th>\n",
       "      <th>amazing</th>\n",
       "      <th>american</th>\n",
       "      <th>anywhere</th>\n",
       "      <th>architecture</th>\n",
       "      <th>art</th>\n",
       "      <th>artists</th>\n",
       "      <th>authentic</th>\n",
       "      <th>...</th>\n",
       "      <th>vintage</th>\n",
       "      <th>visit</th>\n",
       "      <th>walking</th>\n",
       "      <th>waterfront</th>\n",
       "      <th>well</th>\n",
       "      <th>wine</th>\n",
       "      <th>wonderful</th>\n",
       "      <th>world</th>\n",
       "      <th>young</th>\n",
       "      <th>zoo</th>\n",
       "    </tr>\n",
       "  </thead>\n",
       "  <tbody>\n",
       "    <tr>\n",
       "      <th>0</th>\n",
       "      <td>1</td>\n",
       "      <td>0.035714</td>\n",
       "      <td>0.017857</td>\n",
       "      <td>0.017857</td>\n",
       "      <td>0.000000</td>\n",
       "      <td>0.017857</td>\n",
       "      <td>0.000000</td>\n",
       "      <td>0.000000</td>\n",
       "      <td>0.000000</td>\n",
       "      <td>0.000000</td>\n",
       "      <td>...</td>\n",
       "      <td>0.000000</td>\n",
       "      <td>0.017857</td>\n",
       "      <td>0.250000</td>\n",
       "      <td>0.000000</td>\n",
       "      <td>0.232143</td>\n",
       "      <td>0.000000</td>\n",
       "      <td>0.000000</td>\n",
       "      <td>0.035714</td>\n",
       "      <td>0.000000</td>\n",
       "      <td>0.428571</td>\n",
       "    </tr>\n",
       "    <tr>\n",
       "      <th>1</th>\n",
       "      <td>2</td>\n",
       "      <td>0.000000</td>\n",
       "      <td>0.000000</td>\n",
       "      <td>0.000000</td>\n",
       "      <td>0.000000</td>\n",
       "      <td>0.000000</td>\n",
       "      <td>0.000000</td>\n",
       "      <td>0.000000</td>\n",
       "      <td>0.000000</td>\n",
       "      <td>0.000000</td>\n",
       "      <td>...</td>\n",
       "      <td>0.000000</td>\n",
       "      <td>0.000000</td>\n",
       "      <td>0.000000</td>\n",
       "      <td>0.000000</td>\n",
       "      <td>0.000000</td>\n",
       "      <td>0.000000</td>\n",
       "      <td>0.000000</td>\n",
       "      <td>0.000000</td>\n",
       "      <td>0.000000</td>\n",
       "      <td>0.000000</td>\n",
       "    </tr>\n",
       "    <tr>\n",
       "      <th>2</th>\n",
       "      <td>3</td>\n",
       "      <td>0.008475</td>\n",
       "      <td>0.042373</td>\n",
       "      <td>0.110169</td>\n",
       "      <td>0.037288</td>\n",
       "      <td>0.008475</td>\n",
       "      <td>0.003390</td>\n",
       "      <td>0.020339</td>\n",
       "      <td>0.011864</td>\n",
       "      <td>0.032203</td>\n",
       "      <td>...</td>\n",
       "      <td>0.000000</td>\n",
       "      <td>0.028814</td>\n",
       "      <td>0.177966</td>\n",
       "      <td>0.013559</td>\n",
       "      <td>0.147458</td>\n",
       "      <td>0.018644</td>\n",
       "      <td>0.057627</td>\n",
       "      <td>0.100000</td>\n",
       "      <td>0.076271</td>\n",
       "      <td>0.003390</td>\n",
       "    </tr>\n",
       "    <tr>\n",
       "      <th>3</th>\n",
       "      <td>4</td>\n",
       "      <td>0.052632</td>\n",
       "      <td>0.052632</td>\n",
       "      <td>0.052632</td>\n",
       "      <td>0.000000</td>\n",
       "      <td>0.000000</td>\n",
       "      <td>0.000000</td>\n",
       "      <td>0.000000</td>\n",
       "      <td>0.000000</td>\n",
       "      <td>0.000000</td>\n",
       "      <td>...</td>\n",
       "      <td>0.000000</td>\n",
       "      <td>0.000000</td>\n",
       "      <td>0.105263</td>\n",
       "      <td>0.000000</td>\n",
       "      <td>0.000000</td>\n",
       "      <td>0.000000</td>\n",
       "      <td>0.000000</td>\n",
       "      <td>0.052632</td>\n",
       "      <td>0.000000</td>\n",
       "      <td>0.000000</td>\n",
       "    </tr>\n",
       "    <tr>\n",
       "      <th>4</th>\n",
       "      <td>5</td>\n",
       "      <td>0.003311</td>\n",
       "      <td>0.029801</td>\n",
       "      <td>0.024834</td>\n",
       "      <td>0.048013</td>\n",
       "      <td>0.006623</td>\n",
       "      <td>0.019868</td>\n",
       "      <td>0.001656</td>\n",
       "      <td>0.000000</td>\n",
       "      <td>0.026490</td>\n",
       "      <td>...</td>\n",
       "      <td>0.028146</td>\n",
       "      <td>0.019868</td>\n",
       "      <td>0.087748</td>\n",
       "      <td>0.026490</td>\n",
       "      <td>0.092715</td>\n",
       "      <td>0.009934</td>\n",
       "      <td>0.008278</td>\n",
       "      <td>0.240066</td>\n",
       "      <td>0.004967</td>\n",
       "      <td>0.000000</td>\n",
       "    </tr>\n",
       "  </tbody>\n",
       "</table>\n",
       "<p>5 rows × 215 columns</p>\n",
       "</div>"
      ],
      "text/plain": [
       "word  neighborhood_id  accessible   airport   amazing  american  anywhere  \\\n",
       "0                   1    0.035714  0.017857  0.017857  0.000000  0.017857   \n",
       "1                   2    0.000000  0.000000  0.000000  0.000000  0.000000   \n",
       "2                   3    0.008475  0.042373  0.110169  0.037288  0.008475   \n",
       "3                   4    0.052632  0.052632  0.052632  0.000000  0.000000   \n",
       "4                   5    0.003311  0.029801  0.024834  0.048013  0.006623   \n",
       "\n",
       "word  architecture       art   artists  authentic    ...      vintage  \\\n",
       "0         0.000000  0.000000  0.000000   0.000000    ...     0.000000   \n",
       "1         0.000000  0.000000  0.000000   0.000000    ...     0.000000   \n",
       "2         0.003390  0.020339  0.011864   0.032203    ...     0.000000   \n",
       "3         0.000000  0.000000  0.000000   0.000000    ...     0.000000   \n",
       "4         0.019868  0.001656  0.000000   0.026490    ...     0.028146   \n",
       "\n",
       "word     visit   walking  waterfront      well      wine  wonderful     world  \\\n",
       "0     0.017857  0.250000    0.000000  0.232143  0.000000   0.000000  0.035714   \n",
       "1     0.000000  0.000000    0.000000  0.000000  0.000000   0.000000  0.000000   \n",
       "2     0.028814  0.177966    0.013559  0.147458  0.018644   0.057627  0.100000   \n",
       "3     0.000000  0.105263    0.000000  0.000000  0.000000   0.000000  0.052632   \n",
       "4     0.019868  0.087748    0.026490  0.092715  0.009934   0.008278  0.240066   \n",
       "\n",
       "word     young       zoo  \n",
       "0     0.000000  0.428571  \n",
       "1     0.000000  0.000000  \n",
       "2     0.076271  0.003390  \n",
       "3     0.000000  0.000000  \n",
       "4     0.004967  0.000000  \n",
       "\n",
       "[5 rows x 215 columns]"
      ]
     },
     "execution_count": 20,
     "metadata": {},
     "output_type": "execute_result"
    }
   ],
   "source": [
    "neighborhood_words = pd.pivot_table(all_words,values=['freq'],index='neighborhood',columns=['word'],fill_value=0).reset_index()\n",
    "neighborhood_words.columns = neighborhood_words.columns.droplevel()\n",
    "neighborhood_words.rename(columns={'':'neighborhood_id'},inplace=True)\n",
    "neighborhood_words.head()"
   ]
  },
  {
   "cell_type": "markdown",
   "metadata": {},
   "source": [
    "# Merge Features"
   ]
  },
  {
   "cell_type": "code",
   "execution_count": 40,
   "metadata": {
    "scrolled": true
   },
   "outputs": [
    {
     "data": {
      "text/html": [
       "<div>\n",
       "<style scoped>\n",
       "    .dataframe tbody tr th:only-of-type {\n",
       "        vertical-align: middle;\n",
       "    }\n",
       "\n",
       "    .dataframe tbody tr th {\n",
       "        vertical-align: top;\n",
       "    }\n",
       "\n",
       "    .dataframe thead th {\n",
       "        text-align: right;\n",
       "    }\n",
       "</style>\n",
       "<table border=\"1\" class=\"dataframe\">\n",
       "  <thead>\n",
       "    <tr style=\"text-align: right;\">\n",
       "      <th></th>\n",
       "      <th>neighborhood_id</th>\n",
       "      <th>accessible</th>\n",
       "      <th>airport</th>\n",
       "      <th>amazing</th>\n",
       "      <th>american</th>\n",
       "      <th>anywhere</th>\n",
       "      <th>architecture</th>\n",
       "      <th>art</th>\n",
       "      <th>artists</th>\n",
       "      <th>authentic</th>\n",
       "      <th>...</th>\n",
       "      <th>waterfront</th>\n",
       "      <th>well</th>\n",
       "      <th>wine</th>\n",
       "      <th>wonderful</th>\n",
       "      <th>world</th>\n",
       "      <th>young</th>\n",
       "      <th>zoo</th>\n",
       "      <th>neighborhood</th>\n",
       "      <th>num_listings</th>\n",
       "      <th>price_norm</th>\n",
       "    </tr>\n",
       "  </thead>\n",
       "  <tbody>\n",
       "    <tr>\n",
       "      <th>0</th>\n",
       "      <td>1</td>\n",
       "      <td>0.035714</td>\n",
       "      <td>0.017857</td>\n",
       "      <td>0.017857</td>\n",
       "      <td>0.000000</td>\n",
       "      <td>0.017857</td>\n",
       "      <td>0.000000</td>\n",
       "      <td>0.000000</td>\n",
       "      <td>0.000000</td>\n",
       "      <td>0.000000</td>\n",
       "      <td>...</td>\n",
       "      <td>0.000000</td>\n",
       "      <td>0.232143</td>\n",
       "      <td>0.000000</td>\n",
       "      <td>0.000000</td>\n",
       "      <td>0.035714</td>\n",
       "      <td>0.000000</td>\n",
       "      <td>0.428571</td>\n",
       "      <td>Allerton</td>\n",
       "      <td>77</td>\n",
       "      <td>31.006370</td>\n",
       "    </tr>\n",
       "    <tr>\n",
       "      <th>1</th>\n",
       "      <td>2</td>\n",
       "      <td>0.000000</td>\n",
       "      <td>0.000000</td>\n",
       "      <td>0.000000</td>\n",
       "      <td>0.000000</td>\n",
       "      <td>0.000000</td>\n",
       "      <td>0.000000</td>\n",
       "      <td>0.000000</td>\n",
       "      <td>0.000000</td>\n",
       "      <td>0.000000</td>\n",
       "      <td>...</td>\n",
       "      <td>0.000000</td>\n",
       "      <td>0.000000</td>\n",
       "      <td>0.000000</td>\n",
       "      <td>0.000000</td>\n",
       "      <td>0.000000</td>\n",
       "      <td>0.000000</td>\n",
       "      <td>0.000000</td>\n",
       "      <td>Arden Heights</td>\n",
       "      <td>5</td>\n",
       "      <td>28.170000</td>\n",
       "    </tr>\n",
       "    <tr>\n",
       "      <th>2</th>\n",
       "      <td>3</td>\n",
       "      <td>0.008475</td>\n",
       "      <td>0.042373</td>\n",
       "      <td>0.110169</td>\n",
       "      <td>0.037288</td>\n",
       "      <td>0.008475</td>\n",
       "      <td>0.003390</td>\n",
       "      <td>0.020339</td>\n",
       "      <td>0.011864</td>\n",
       "      <td>0.032203</td>\n",
       "      <td>...</td>\n",
       "      <td>0.013559</td>\n",
       "      <td>0.147458</td>\n",
       "      <td>0.018644</td>\n",
       "      <td>0.057627</td>\n",
       "      <td>0.100000</td>\n",
       "      <td>0.076271</td>\n",
       "      <td>0.003390</td>\n",
       "      <td>Astoria</td>\n",
       "      <td>919</td>\n",
       "      <td>59.324403</td>\n",
       "    </tr>\n",
       "    <tr>\n",
       "      <th>3</th>\n",
       "      <td>4</td>\n",
       "      <td>0.052632</td>\n",
       "      <td>0.052632</td>\n",
       "      <td>0.052632</td>\n",
       "      <td>0.000000</td>\n",
       "      <td>0.000000</td>\n",
       "      <td>0.000000</td>\n",
       "      <td>0.000000</td>\n",
       "      <td>0.000000</td>\n",
       "      <td>0.000000</td>\n",
       "      <td>...</td>\n",
       "      <td>0.000000</td>\n",
       "      <td>0.000000</td>\n",
       "      <td>0.000000</td>\n",
       "      <td>0.000000</td>\n",
       "      <td>0.052632</td>\n",
       "      <td>0.000000</td>\n",
       "      <td>0.000000</td>\n",
       "      <td>Bath Beach</td>\n",
       "      <td>27</td>\n",
       "      <td>40.018519</td>\n",
       "    </tr>\n",
       "    <tr>\n",
       "      <th>4</th>\n",
       "      <td>5</td>\n",
       "      <td>0.003311</td>\n",
       "      <td>0.029801</td>\n",
       "      <td>0.024834</td>\n",
       "      <td>0.048013</td>\n",
       "      <td>0.006623</td>\n",
       "      <td>0.019868</td>\n",
       "      <td>0.001656</td>\n",
       "      <td>0.000000</td>\n",
       "      <td>0.026490</td>\n",
       "      <td>...</td>\n",
       "      <td>0.026490</td>\n",
       "      <td>0.092715</td>\n",
       "      <td>0.009934</td>\n",
       "      <td>0.008278</td>\n",
       "      <td>0.240066</td>\n",
       "      <td>0.004967</td>\n",
       "      <td>0.000000</td>\n",
       "      <td>Financial District</td>\n",
       "      <td>832</td>\n",
       "      <td>84.430094</td>\n",
       "    </tr>\n",
       "  </tbody>\n",
       "</table>\n",
       "<p>5 rows × 218 columns</p>\n",
       "</div>"
      ],
      "text/plain": [
       "   neighborhood_id  accessible   airport   amazing  american  anywhere  \\\n",
       "0                1    0.035714  0.017857  0.017857  0.000000  0.017857   \n",
       "1                2    0.000000  0.000000  0.000000  0.000000  0.000000   \n",
       "2                3    0.008475  0.042373  0.110169  0.037288  0.008475   \n",
       "3                4    0.052632  0.052632  0.052632  0.000000  0.000000   \n",
       "4                5    0.003311  0.029801  0.024834  0.048013  0.006623   \n",
       "\n",
       "   architecture       art   artists  authentic     ...      waterfront  \\\n",
       "0      0.000000  0.000000  0.000000   0.000000     ...        0.000000   \n",
       "1      0.000000  0.000000  0.000000   0.000000     ...        0.000000   \n",
       "2      0.003390  0.020339  0.011864   0.032203     ...        0.013559   \n",
       "3      0.000000  0.000000  0.000000   0.000000     ...        0.000000   \n",
       "4      0.019868  0.001656  0.000000   0.026490     ...        0.026490   \n",
       "\n",
       "       well      wine  wonderful     world     young       zoo  \\\n",
       "0  0.232143  0.000000   0.000000  0.035714  0.000000  0.428571   \n",
       "1  0.000000  0.000000   0.000000  0.000000  0.000000  0.000000   \n",
       "2  0.147458  0.018644   0.057627  0.100000  0.076271  0.003390   \n",
       "3  0.000000  0.000000   0.000000  0.052632  0.000000  0.000000   \n",
       "4  0.092715  0.009934   0.008278  0.240066  0.004967  0.000000   \n",
       "\n",
       "         neighborhood  num_listings  price_norm  \n",
       "0            Allerton            77   31.006370  \n",
       "1       Arden Heights             5   28.170000  \n",
       "2             Astoria           919   59.324403  \n",
       "3          Bath Beach            27   40.018519  \n",
       "4  Financial District           832   84.430094  \n",
       "\n",
       "[5 rows x 218 columns]"
      ]
     },
     "execution_count": 40,
     "metadata": {},
     "output_type": "execute_result"
    }
   ],
   "source": [
    "merged = pd.merge(neighborhood_words,neighborhood_quant)\n",
    "merged.head()"
   ]
  },
  {
   "cell_type": "code",
   "execution_count": 42,
   "metadata": {},
   "outputs": [
    {
     "data": {
      "text/plain": [
       "Index(['neighborhood_id', 'accessible', 'airport', 'amazing', 'american',\n",
       "       'anywhere', 'architecture', 'art', 'artists', 'authentic',\n",
       "       ...\n",
       "       'waterfront', 'well', 'wine', 'wonderful', 'world', 'young', 'zoo',\n",
       "       'neighborhood', 'num_listings', 'price_norm'],\n",
       "      dtype='object', length=218)"
      ]
     },
     "execution_count": 42,
     "metadata": {},
     "output_type": "execute_result"
    }
   ],
   "source": [
    "merged.columns"
   ]
  },
  {
   "cell_type": "code",
   "execution_count": 43,
   "metadata": {},
   "outputs": [],
   "source": [
    "merged.to_csv('cleaned_data/airbnb.csv',index=False)"
   ]
  },
  {
   "cell_type": "markdown",
   "metadata": {},
   "source": [
    "# Simple Clustering/PCA on Qualitative Features"
   ]
  },
  {
   "cell_type": "code",
   "execution_count": 23,
   "metadata": {},
   "outputs": [
    {
     "name": "stdout",
     "output_type": "stream",
     "text": [
      "Index(['accessible', 'airport', 'amazing', 'american', 'anywhere',\n",
      "       'architecture', 'art', 'artists', 'authentic', 'available',\n",
      "       ...\n",
      "       'vintage', 'visit', 'walking', 'waterfront', 'well', 'wine',\n",
      "       'wonderful', 'world', 'young', 'zoo'],\n",
      "      dtype='object', length=214)\n"
     ]
    },
    {
     "data": {
      "text/plain": [
       "array([[ 0.3547821 , -0.27728794, -0.46421137, ..., -0.15418273,\n",
       "        -0.45795564,  3.36861154],\n",
       "       [-0.54434753, -0.42149936, -0.8514969 , ..., -0.74385492,\n",
       "        -0.45795564, -0.51628256],\n",
       "       [-0.33099474, -0.07930277,  1.53785793, ...,  0.90722722,\n",
       "         1.88676978, -0.48555459],\n",
       "       ...,\n",
       "       [ 0.15497551, -0.42149936,  1.95990921, ...,  0.17341293,\n",
       "        -0.1733079 ,  0.32304641],\n",
       "       [-0.54434753,  0.12416548, -0.8514969 , ..., -0.52073572,\n",
       "        -0.45795564, -0.51628256],\n",
       "       [-0.54434753,  0.68412154, -0.07692583, ...,  1.22171905,\n",
       "        -0.45795564, -0.51628256]])"
      ]
     },
     "execution_count": 23,
     "metadata": {},
     "output_type": "execute_result"
    }
   ],
   "source": [
    "quant_features = merged.columns[4:]\n",
    "print(quant_features)\n",
    "features = merged.loc[:, quant_features].values\n",
    "features = StandardScaler().fit_transform(features)\n",
    "features"
   ]
  },
  {
   "cell_type": "code",
   "execution_count": 24,
   "metadata": {},
   "outputs": [
    {
     "data": {
      "text/plain": [
       "array([0.09453387, 0.04796768])"
      ]
     },
     "execution_count": 24,
     "metadata": {},
     "output_type": "execute_result"
    }
   ],
   "source": [
    "from sklearn.decomposition import PCA\n",
    "pca = PCA(n_components=2)\n",
    "principalComponents = pca.fit_transform(features)\n",
    "pcaDf = pd.DataFrame(data = principalComponents, columns = ['pc1','pc2'])\n",
    "pca.explained_variance_ratio_"
   ]
  },
  {
   "cell_type": "code",
   "execution_count": 25,
   "metadata": {
    "scrolled": true
   },
   "outputs": [
    {
     "data": {
      "text/html": [
       "<div>\n",
       "<style scoped>\n",
       "    .dataframe tbody tr th:only-of-type {\n",
       "        vertical-align: middle;\n",
       "    }\n",
       "\n",
       "    .dataframe tbody tr th {\n",
       "        vertical-align: top;\n",
       "    }\n",
       "\n",
       "    .dataframe thead th {\n",
       "        text-align: right;\n",
       "    }\n",
       "</style>\n",
       "<table border=\"1\" class=\"dataframe\">\n",
       "  <thead>\n",
       "    <tr style=\"text-align: right;\">\n",
       "      <th></th>\n",
       "      <th>pc1</th>\n",
       "      <th>pc2</th>\n",
       "      <th>0</th>\n",
       "    </tr>\n",
       "  </thead>\n",
       "  <tbody>\n",
       "    <tr>\n",
       "      <th>0</th>\n",
       "      <td>0.010227</td>\n",
       "      <td>0.027985</td>\n",
       "      <td>accessible</td>\n",
       "    </tr>\n",
       "    <tr>\n",
       "      <th>1</th>\n",
       "      <td>-0.051741</td>\n",
       "      <td>-0.026855</td>\n",
       "      <td>airport</td>\n",
       "    </tr>\n",
       "    <tr>\n",
       "      <th>2</th>\n",
       "      <td>0.139874</td>\n",
       "      <td>-0.000089</td>\n",
       "      <td>amazing</td>\n",
       "    </tr>\n",
       "    <tr>\n",
       "      <th>3</th>\n",
       "      <td>0.028031</td>\n",
       "      <td>-0.018308</td>\n",
       "      <td>american</td>\n",
       "    </tr>\n",
       "    <tr>\n",
       "      <th>4</th>\n",
       "      <td>0.076125</td>\n",
       "      <td>-0.035545</td>\n",
       "      <td>anywhere</td>\n",
       "    </tr>\n",
       "  </tbody>\n",
       "</table>\n",
       "</div>"
      ],
      "text/plain": [
       "        pc1       pc2           0\n",
       "0  0.010227  0.027985  accessible\n",
       "1 -0.051741 -0.026855     airport\n",
       "2  0.139874 -0.000089     amazing\n",
       "3  0.028031 -0.018308    american\n",
       "4  0.076125 -0.035545    anywhere"
      ]
     },
     "execution_count": 25,
     "metadata": {},
     "output_type": "execute_result"
    }
   ],
   "source": [
    "pcaFeaturesDf = pd.DataFrame(data = pca.components_.T, columns = ['pc1', 'pc2'])\n",
    "pcaFeaturesDf = pd.concat([pcaFeaturesDf,pd.Series(merged.columns[4:])],axis=1)\n",
    "pcaFeaturesDf.head()"
   ]
  },
  {
   "cell_type": "code",
   "execution_count": 26,
   "metadata": {},
   "outputs": [
    {
     "data": {
      "text/html": [
       "<div>\n",
       "<style scoped>\n",
       "    .dataframe tbody tr th:only-of-type {\n",
       "        vertical-align: middle;\n",
       "    }\n",
       "\n",
       "    .dataframe tbody tr th {\n",
       "        vertical-align: top;\n",
       "    }\n",
       "\n",
       "    .dataframe thead th {\n",
       "        text-align: right;\n",
       "    }\n",
       "</style>\n",
       "<table border=\"1\" class=\"dataframe\">\n",
       "  <thead>\n",
       "    <tr style=\"text-align: right;\">\n",
       "      <th></th>\n",
       "      <th>pc1</th>\n",
       "      <th>pc2</th>\n",
       "      <th>0</th>\n",
       "    </tr>\n",
       "  </thead>\n",
       "  <tbody>\n",
       "    <tr>\n",
       "      <th>15</th>\n",
       "      <td>0.192685</td>\n",
       "      <td>0.000304</td>\n",
       "      <td>bars</td>\n",
       "    </tr>\n",
       "    <tr>\n",
       "      <th>195</th>\n",
       "      <td>0.173778</td>\n",
       "      <td>-0.010566</td>\n",
       "      <td>trendy</td>\n",
       "    </tr>\n",
       "    <tr>\n",
       "      <th>38</th>\n",
       "      <td>0.173201</td>\n",
       "      <td>0.041310</td>\n",
       "      <td>coffee</td>\n",
       "    </tr>\n",
       "    <tr>\n",
       "      <th>30</th>\n",
       "      <td>0.172942</td>\n",
       "      <td>-0.011351</td>\n",
       "      <td>cafes</td>\n",
       "    </tr>\n",
       "    <tr>\n",
       "      <th>93</th>\n",
       "      <td>0.159717</td>\n",
       "      <td>-0.007439</td>\n",
       "      <td>hip</td>\n",
       "    </tr>\n",
       "    <tr>\n",
       "      <th>24</th>\n",
       "      <td>0.156418</td>\n",
       "      <td>-0.019979</td>\n",
       "      <td>brunch</td>\n",
       "    </tr>\n",
       "    <tr>\n",
       "      <th>21</th>\n",
       "      <td>0.147412</td>\n",
       "      <td>-0.030220</td>\n",
       "      <td>boutiques</td>\n",
       "    </tr>\n",
       "    <tr>\n",
       "      <th>166</th>\n",
       "      <td>0.147085</td>\n",
       "      <td>-0.025208</td>\n",
       "      <td>scene</td>\n",
       "    </tr>\n",
       "    <tr>\n",
       "      <th>33</th>\n",
       "      <td>0.145735</td>\n",
       "      <td>-0.009422</td>\n",
       "      <td>charming</td>\n",
       "    </tr>\n",
       "    <tr>\n",
       "      <th>2</th>\n",
       "      <td>0.139874</td>\n",
       "      <td>-0.000089</td>\n",
       "      <td>amazing</td>\n",
       "    </tr>\n",
       "  </tbody>\n",
       "</table>\n",
       "</div>"
      ],
      "text/plain": [
       "          pc1       pc2          0\n",
       "15   0.192685  0.000304       bars\n",
       "195  0.173778 -0.010566     trendy\n",
       "38   0.173201  0.041310     coffee\n",
       "30   0.172942 -0.011351      cafes\n",
       "93   0.159717 -0.007439        hip\n",
       "24   0.156418 -0.019979     brunch\n",
       "21   0.147412 -0.030220  boutiques\n",
       "166  0.147085 -0.025208      scene\n",
       "33   0.145735 -0.009422   charming\n",
       "2    0.139874 -0.000089    amazing"
      ]
     },
     "execution_count": 26,
     "metadata": {},
     "output_type": "execute_result"
    }
   ],
   "source": [
    "pcaFeaturesDf.iloc[(-np.abs(pcaFeaturesDf['pc1'].values)).argsort()].head(10)"
   ]
  },
  {
   "cell_type": "code",
   "execution_count": 27,
   "metadata": {
    "scrolled": true
   },
   "outputs": [
    {
     "data": {
      "text/html": [
       "<div>\n",
       "<style scoped>\n",
       "    .dataframe tbody tr th:only-of-type {\n",
       "        vertical-align: middle;\n",
       "    }\n",
       "\n",
       "    .dataframe tbody tr th {\n",
       "        vertical-align: top;\n",
       "    }\n",
       "\n",
       "    .dataframe thead th {\n",
       "        text-align: right;\n",
       "    }\n",
       "</style>\n",
       "<table border=\"1\" class=\"dataframe\">\n",
       "  <thead>\n",
       "    <tr style=\"text-align: right;\">\n",
       "      <th></th>\n",
       "      <th>pc1</th>\n",
       "      <th>pc2</th>\n",
       "      <th>0</th>\n",
       "    </tr>\n",
       "  </thead>\n",
       "  <tbody>\n",
       "    <tr>\n",
       "      <th>155</th>\n",
       "      <td>0.000008</td>\n",
       "      <td>0.247708</td>\n",
       "      <td>quick</td>\n",
       "    </tr>\n",
       "    <tr>\n",
       "      <th>171</th>\n",
       "      <td>0.011702</td>\n",
       "      <td>0.237056</td>\n",
       "      <td>small</td>\n",
       "    </tr>\n",
       "    <tr>\n",
       "      <th>103</th>\n",
       "      <td>-0.024809</td>\n",
       "      <td>0.234288</td>\n",
       "      <td>italian</td>\n",
       "    </tr>\n",
       "    <tr>\n",
       "      <th>149</th>\n",
       "      <td>-0.021750</td>\n",
       "      <td>0.230541</td>\n",
       "      <td>pizza</td>\n",
       "    </tr>\n",
       "    <tr>\n",
       "      <th>160</th>\n",
       "      <td>-0.002479</td>\n",
       "      <td>0.227365</td>\n",
       "      <td>restaurant</td>\n",
       "    </tr>\n",
       "    <tr>\n",
       "      <th>29</th>\n",
       "      <td>0.071424</td>\n",
       "      <td>0.212716</td>\n",
       "      <td>cafe</td>\n",
       "    </tr>\n",
       "    <tr>\n",
       "      <th>62</th>\n",
       "      <td>-0.016689</td>\n",
       "      <td>0.210976</td>\n",
       "      <td>eat</td>\n",
       "    </tr>\n",
       "    <tr>\n",
       "      <th>52</th>\n",
       "      <td>-0.015394</td>\n",
       "      <td>0.190171</td>\n",
       "      <td>deli</td>\n",
       "    </tr>\n",
       "    <tr>\n",
       "      <th>141</th>\n",
       "      <td>0.030925</td>\n",
       "      <td>0.190032</td>\n",
       "      <td>outdoor</td>\n",
       "    </tr>\n",
       "    <tr>\n",
       "      <th>116</th>\n",
       "      <td>-0.000345</td>\n",
       "      <td>0.189186</td>\n",
       "      <td>local</td>\n",
       "    </tr>\n",
       "  </tbody>\n",
       "</table>\n",
       "</div>"
      ],
      "text/plain": [
       "          pc1       pc2           0\n",
       "155  0.000008  0.247708       quick\n",
       "171  0.011702  0.237056       small\n",
       "103 -0.024809  0.234288     italian\n",
       "149 -0.021750  0.230541       pizza\n",
       "160 -0.002479  0.227365  restaurant\n",
       "29   0.071424  0.212716        cafe\n",
       "62  -0.016689  0.210976         eat\n",
       "52  -0.015394  0.190171        deli\n",
       "141  0.030925  0.190032     outdoor\n",
       "116 -0.000345  0.189186       local"
      ]
     },
     "execution_count": 27,
     "metadata": {},
     "output_type": "execute_result"
    }
   ],
   "source": [
    "pcaFeaturesDf.iloc[(-np.abs(pcaFeaturesDf['pc2'].values)).argsort()].head(10)"
   ]
  },
  {
   "cell_type": "code",
   "execution_count": 28,
   "metadata": {
    "scrolled": true
   },
   "outputs": [
    {
     "data": {
      "text/plain": [
       "KMeans(algorithm='auto', copy_x=True, init='k-means++', max_iter=300,\n",
       "       n_clusters=16, n_init=10, n_jobs=None, precompute_distances='auto',\n",
       "       random_state=None, tol=0.0001, verbose=0)"
      ]
     },
     "execution_count": 28,
     "metadata": {},
     "output_type": "execute_result"
    }
   ],
   "source": [
    "Kmean = KMeans(n_clusters=16)\n",
    "Kmean.fit(features)"
   ]
  },
  {
   "cell_type": "code",
   "execution_count": 29,
   "metadata": {},
   "outputs": [
    {
     "data": {
      "text/plain": [
       "array([ 7,  0,  1,  7,  1,  7,  1,  7, 10,  7,  7,  7,  7,  7,  7,  1, 10,\n",
       "        7,  3,  7,  7,  7, 12,  4,  5, 14,  3, 10,  7, 10, 13,  7,  7,  7,\n",
       "        7,  7,  1,  7,  1,  7,  7, 10,  0,  7,  7,  1,  7,  7,  3,  7,  1,\n",
       "        7,  1,  7,  7,  8,  1, 10,  1,  7,  1, 10,  5,  7,  3,  7,  5,  5,\n",
       "        7,  0,  7,  7,  7,  1,  7,  7,  1,  7,  7,  7,  5,  7,  1,  7,  3,\n",
       "        7,  1, 11,  7,  5,  7,  7,  1,  7,  1,  7, 15,  7,  7,  7,  7,  7,\n",
       "        7,  7,  7,  0, 10,  1,  7,  1, 10,  7,  7,  7,  3,  1,  7,  2,  7,\n",
       "        1,  7,  7,  7,  7,  1,  1,  1,  7,  9,  5,  7,  7,  5,  5,  7,  1,\n",
       "        7,  5,  7,  6,  7,  3,  1,  7,  1], dtype=int32)"
      ]
     },
     "execution_count": 29,
     "metadata": {},
     "output_type": "execute_result"
    }
   ],
   "source": [
    "Kmean.labels_"
   ]
  },
  {
   "cell_type": "code",
   "execution_count": 30,
   "metadata": {
    "scrolled": false
   },
   "outputs": [
    {
     "data": {
      "text/html": [
       "<div>\n",
       "<style scoped>\n",
       "    .dataframe tbody tr th:only-of-type {\n",
       "        vertical-align: middle;\n",
       "    }\n",
       "\n",
       "    .dataframe tbody tr th {\n",
       "        vertical-align: top;\n",
       "    }\n",
       "\n",
       "    .dataframe thead th {\n",
       "        text-align: right;\n",
       "    }\n",
       "</style>\n",
       "<table border=\"1\" class=\"dataframe\">\n",
       "  <thead>\n",
       "    <tr style=\"text-align: right;\">\n",
       "      <th></th>\n",
       "      <th>kmean</th>\n",
       "      <th>neighborhood_id</th>\n",
       "      <th>neighborhood</th>\n",
       "    </tr>\n",
       "  </thead>\n",
       "  <tbody>\n",
       "    <tr>\n",
       "      <th>0</th>\n",
       "      <td>7</td>\n",
       "      <td>1.0</td>\n",
       "      <td>Allerton</td>\n",
       "    </tr>\n",
       "    <tr>\n",
       "      <th>1</th>\n",
       "      <td>0</td>\n",
       "      <td>2.0</td>\n",
       "      <td>Arden Heights</td>\n",
       "    </tr>\n",
       "    <tr>\n",
       "      <th>2</th>\n",
       "      <td>1</td>\n",
       "      <td>3.0</td>\n",
       "      <td>Astoria</td>\n",
       "    </tr>\n",
       "    <tr>\n",
       "      <th>3</th>\n",
       "      <td>7</td>\n",
       "      <td>4.0</td>\n",
       "      <td>Bath Beach</td>\n",
       "    </tr>\n",
       "    <tr>\n",
       "      <th>4</th>\n",
       "      <td>1</td>\n",
       "      <td>5.0</td>\n",
       "      <td>Financial District</td>\n",
       "    </tr>\n",
       "  </tbody>\n",
       "</table>\n",
       "</div>"
      ],
      "text/plain": [
       "   kmean  neighborhood_id        neighborhood\n",
       "0      7              1.0            Allerton\n",
       "1      0              2.0       Arden Heights\n",
       "2      1              3.0             Astoria\n",
       "3      7              4.0          Bath Beach\n",
       "4      1              5.0  Financial District"
      ]
     },
     "execution_count": 30,
     "metadata": {},
     "output_type": "execute_result"
    }
   ],
   "source": [
    "merged['kmean'] = Kmean.labels_\n",
    "merged[['kmean','neighborhood_id','neighborhood']].head()"
   ]
  },
  {
   "cell_type": "code",
   "execution_count": 31,
   "metadata": {},
   "outputs": [
    {
     "data": {
      "text/html": [
       "<div>\n",
       "<style scoped>\n",
       "    .dataframe tbody tr th:only-of-type {\n",
       "        vertical-align: middle;\n",
       "    }\n",
       "\n",
       "    .dataframe tbody tr th {\n",
       "        vertical-align: top;\n",
       "    }\n",
       "\n",
       "    .dataframe thead th {\n",
       "        text-align: right;\n",
       "    }\n",
       "</style>\n",
       "<table border=\"1\" class=\"dataframe\">\n",
       "  <thead>\n",
       "    <tr style=\"text-align: right;\">\n",
       "      <th></th>\n",
       "      <th>pc1</th>\n",
       "      <th>pc2</th>\n",
       "      <th>kmean</th>\n",
       "      <th>neighborhood_id</th>\n",
       "    </tr>\n",
       "  </thead>\n",
       "  <tbody>\n",
       "    <tr>\n",
       "      <th>0</th>\n",
       "      <td>-3.391024</td>\n",
       "      <td>-0.848532</td>\n",
       "      <td>7</td>\n",
       "      <td>1.0</td>\n",
       "    </tr>\n",
       "    <tr>\n",
       "      <th>1</th>\n",
       "      <td>-5.177383</td>\n",
       "      <td>-1.633874</td>\n",
       "      <td>0</td>\n",
       "      <td>2.0</td>\n",
       "    </tr>\n",
       "    <tr>\n",
       "      <th>2</th>\n",
       "      <td>4.540153</td>\n",
       "      <td>-0.101784</td>\n",
       "      <td>1</td>\n",
       "      <td>3.0</td>\n",
       "    </tr>\n",
       "    <tr>\n",
       "      <th>3</th>\n",
       "      <td>-2.289407</td>\n",
       "      <td>-1.211200</td>\n",
       "      <td>7</td>\n",
       "      <td>4.0</td>\n",
       "    </tr>\n",
       "    <tr>\n",
       "      <th>4</th>\n",
       "      <td>3.845205</td>\n",
       "      <td>-0.732070</td>\n",
       "      <td>1</td>\n",
       "      <td>5.0</td>\n",
       "    </tr>\n",
       "  </tbody>\n",
       "</table>\n",
       "</div>"
      ],
      "text/plain": [
       "        pc1       pc2  kmean  neighborhood_id\n",
       "0 -3.391024 -0.848532      7              1.0\n",
       "1 -5.177383 -1.633874      0              2.0\n",
       "2  4.540153 -0.101784      1              3.0\n",
       "3 -2.289407 -1.211200      7              4.0\n",
       "4  3.845205 -0.732070      1              5.0"
      ]
     },
     "execution_count": 31,
     "metadata": {},
     "output_type": "execute_result"
    }
   ],
   "source": [
    "pcaDf = pd.concat([pcaDf, merged[['kmean','neighborhood_id']]], axis = 1)\n",
    "pcaDf.head()"
   ]
  },
  {
   "cell_type": "code",
   "execution_count": 34,
   "metadata": {},
   "outputs": [
    {
     "data": {
      "text/html": [
       "<div>\n",
       "<style scoped>\n",
       "    .dataframe tbody tr th:only-of-type {\n",
       "        vertical-align: middle;\n",
       "    }\n",
       "\n",
       "    .dataframe tbody tr th {\n",
       "        vertical-align: top;\n",
       "    }\n",
       "\n",
       "    .dataframe thead th {\n",
       "        text-align: right;\n",
       "    }\n",
       "</style>\n",
       "<table border=\"1\" class=\"dataframe\">\n",
       "  <thead>\n",
       "    <tr style=\"text-align: right;\">\n",
       "      <th></th>\n",
       "      <th>neighborhood_id</th>\n",
       "      <th>geometry</th>\n",
       "    </tr>\n",
       "  </thead>\n",
       "  <tbody>\n",
       "    <tr>\n",
       "      <th>0</th>\n",
       "      <td>1</td>\n",
       "      <td>POLYGON ((-73.85663664103342 40.85811529295128...</td>\n",
       "    </tr>\n",
       "    <tr>\n",
       "      <th>1</th>\n",
       "      <td>2</td>\n",
       "      <td>POLYGON ((-74.17185166456856 40.56152092302123...</td>\n",
       "    </tr>\n",
       "    <tr>\n",
       "      <th>2</th>\n",
       "      <td>3</td>\n",
       "      <td>POLYGON ((-73.90202516499477 40.76741678384665...</td>\n",
       "    </tr>\n",
       "    <tr>\n",
       "      <th>3</th>\n",
       "      <td>4</td>\n",
       "      <td>POLYGON ((-74.00200394611576 40.59413237177825...</td>\n",
       "    </tr>\n",
       "    <tr>\n",
       "      <th>4</th>\n",
       "      <td>5</td>\n",
       "      <td>(POLYGON ((-74.00078295209646 40.6942865161671...</td>\n",
       "    </tr>\n",
       "  </tbody>\n",
       "</table>\n",
       "</div>"
      ],
      "text/plain": [
       "   neighborhood_id                                           geometry\n",
       "0                1  POLYGON ((-73.85663664103342 40.85811529295128...\n",
       "1                2  POLYGON ((-74.17185166456856 40.56152092302123...\n",
       "2                3  POLYGON ((-73.90202516499477 40.76741678384665...\n",
       "3                4  POLYGON ((-74.00200394611576 40.59413237177825...\n",
       "4                5  (POLYGON ((-74.00078295209646 40.6942865161671..."
      ]
     },
     "execution_count": 34,
     "metadata": {},
     "output_type": "execute_result"
    }
   ],
   "source": [
    "nyc = gpd.read_file('data/geojson/combinedneighborhoods.geojson')\n",
    "nyc = nyc[['Unique Identifier','geometry']]\n",
    "nyc.columns=['neighborhood_id','geometry']\n",
    "nyc.head()"
   ]
  },
  {
   "cell_type": "code",
   "execution_count": 35,
   "metadata": {
    "scrolled": true
   },
   "outputs": [
    {
     "data": {
      "text/html": [
       "<div>\n",
       "<style scoped>\n",
       "    .dataframe tbody tr th:only-of-type {\n",
       "        vertical-align: middle;\n",
       "    }\n",
       "\n",
       "    .dataframe tbody tr th {\n",
       "        vertical-align: top;\n",
       "    }\n",
       "\n",
       "    .dataframe thead th {\n",
       "        text-align: right;\n",
       "    }\n",
       "</style>\n",
       "<table border=\"1\" class=\"dataframe\">\n",
       "  <thead>\n",
       "    <tr style=\"text-align: right;\">\n",
       "      <th></th>\n",
       "      <th>neighborhood_id</th>\n",
       "      <th>geometry</th>\n",
       "      <th>pc1</th>\n",
       "      <th>pc2</th>\n",
       "      <th>kmean</th>\n",
       "    </tr>\n",
       "  </thead>\n",
       "  <tbody>\n",
       "    <tr>\n",
       "      <th>0</th>\n",
       "      <td>1</td>\n",
       "      <td>POLYGON ((-73.85663664103342 40.85811529295128...</td>\n",
       "      <td>-3.391024</td>\n",
       "      <td>-0.848532</td>\n",
       "      <td>7</td>\n",
       "    </tr>\n",
       "    <tr>\n",
       "      <th>1</th>\n",
       "      <td>2</td>\n",
       "      <td>POLYGON ((-74.17185166456856 40.56152092302123...</td>\n",
       "      <td>-5.177383</td>\n",
       "      <td>-1.633874</td>\n",
       "      <td>0</td>\n",
       "    </tr>\n",
       "    <tr>\n",
       "      <th>2</th>\n",
       "      <td>3</td>\n",
       "      <td>POLYGON ((-73.90202516499477 40.76741678384665...</td>\n",
       "      <td>4.540153</td>\n",
       "      <td>-0.101784</td>\n",
       "      <td>1</td>\n",
       "    </tr>\n",
       "    <tr>\n",
       "      <th>3</th>\n",
       "      <td>4</td>\n",
       "      <td>POLYGON ((-74.00200394611576 40.59413237177825...</td>\n",
       "      <td>-2.289407</td>\n",
       "      <td>-1.211200</td>\n",
       "      <td>7</td>\n",
       "    </tr>\n",
       "    <tr>\n",
       "      <th>4</th>\n",
       "      <td>5</td>\n",
       "      <td>(POLYGON ((-74.00078295209646 40.6942865161671...</td>\n",
       "      <td>3.845205</td>\n",
       "      <td>-0.732070</td>\n",
       "      <td>1</td>\n",
       "    </tr>\n",
       "  </tbody>\n",
       "</table>\n",
       "</div>"
      ],
      "text/plain": [
       "   neighborhood_id                                           geometry  \\\n",
       "0                1  POLYGON ((-73.85663664103342 40.85811529295128...   \n",
       "1                2  POLYGON ((-74.17185166456856 40.56152092302123...   \n",
       "2                3  POLYGON ((-73.90202516499477 40.76741678384665...   \n",
       "3                4  POLYGON ((-74.00200394611576 40.59413237177825...   \n",
       "4                5  (POLYGON ((-74.00078295209646 40.6942865161671...   \n",
       "\n",
       "        pc1       pc2  kmean  \n",
       "0 -3.391024 -0.848532      7  \n",
       "1 -5.177383 -1.633874      0  \n",
       "2  4.540153 -0.101784      1  \n",
       "3 -2.289407 -1.211200      7  \n",
       "4  3.845205 -0.732070      1  "
      ]
     },
     "execution_count": 35,
     "metadata": {},
     "output_type": "execute_result"
    }
   ],
   "source": [
    "nyc = nyc.merge(pcaDf,on='neighborhood_id')\n",
    "nyc.head()"
   ]
  },
  {
   "cell_type": "code",
   "execution_count": 38,
   "metadata": {},
   "outputs": [
    {
     "data": {
      "text/plain": [
       "<matplotlib.axes._subplots.AxesSubplot at 0x120d78c10>"
      ]
     },
     "execution_count": 38,
     "metadata": {},
     "output_type": "execute_result"
    },
    {
     "data": {
      "image/png": "[encoded data removed]",
      "text/plain": [
       "<Figure size 720x504 with 2 Axes>"
      ]
     },
     "metadata": {
      "needs_background": "light"
     },
     "output_type": "display_data"
    }
   ],
   "source": [
    "pcaDf.plot.scatter(x='pc1',y='pc2',c='kmean',colormap = 'tab20',figsize=(10,7))"
   ]
  },
  {
   "cell_type": "code",
   "execution_count": 39,
   "metadata": {
    "scrolled": false
   },
   "outputs": [
    {
     "name": "stderr",
     "output_type": "stream",
     "text": [
      "/usr/local/lib/python3.7/site-packages/geopandas/plotting.py:459: FutureWarning: 'colormap' is deprecated, please use 'cmap' instead (for consistency with matplotlib)\n",
      "  FutureWarning,\n"
     ]
    },
    {
     "data": {
      "text/plain": [
       "<matplotlib.axes._subplots.AxesSubplot at 0x120deca10>"
      ]
     },
     "execution_count": 39,
     "metadata": {},
     "output_type": "execute_result"
    },
    {
     "data": {
      "image/png": "[encoded data removed]",
      "text/plain": [
       "<Figure size 1440x504 with 1 Axes>"
      ]
     },
     "metadata": {
      "needs_background": "light"
     },
     "output_type": "display_data"
    }
   ],
   "source": [
    "nyc.plot(column='kmean',colormap='tab20',figsize=(20,7))"
   ]
  }
 ],
 "metadata": {
  "colab": {
   "collapsed_sections": [],
   "name": "nyc-listings.ipynb",
   "provenance": []
  },
  "kernelspec": {
   "display_name": "Python 3",
   "language": "python",
   "name": "python3"
  },
  "language_info": {
   "codemirror_mode": {
    "name": "ipython",
    "version": 3
   },
   "file_extension": ".py",
   "mimetype": "text/x-python",
   "name": "python",
   "nbconvert_exporter": "python",
   "pygments_lexer": "ipython3",
   "version": "3.7.4"
  }
 },
 "nbformat": 4,
 "nbformat_minor": 1
}
